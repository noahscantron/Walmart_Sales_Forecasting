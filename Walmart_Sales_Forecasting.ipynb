{
 "cells": [
  {
   "cell_type": "markdown",
   "metadata": {
    "toc": true
   },
   "source": [
    "<h1>Table of Contents<span class=\"tocSkip\"></span></h1>\n",
    "<div class=\"toc\"><ul class=\"toc-item\"><li><span><a href=\"#Import-Packages\" data-toc-modified-id=\"Import-Packages-1\"><span class=\"toc-item-num\">1&nbsp;&nbsp;</span>Import Packages</a></span></li><li><span><a href=\"#Data-Wrangling\" data-toc-modified-id=\"Data-Wrangling-2\"><span class=\"toc-item-num\">2&nbsp;&nbsp;</span>Data Wrangling</a></span><ul class=\"toc-item\"><li><span><a href=\"#Importing-Files\" data-toc-modified-id=\"Importing-Files-2.1\"><span class=\"toc-item-num\">2.1&nbsp;&nbsp;</span>Importing Files</a></span></li><li><span><a href=\"#Data-Cleaning-and-Initial-Analysis\" data-toc-modified-id=\"Data-Cleaning-and-Initial-Analysis-2.2\"><span class=\"toc-item-num\">2.2&nbsp;&nbsp;</span>Data Cleaning and Initial Analysis</a></span><ul class=\"toc-item\"><li><span><a href=\"#&quot;Data&quot;-Dataset\" data-toc-modified-id=\"&quot;Data&quot;-Dataset-2.2.1\"><span class=\"toc-item-num\">2.2.1&nbsp;&nbsp;</span>\"Data\" Dataset</a></span></li><li><span><a href=\"#&quot;Stores&quot;-Dataset\" data-toc-modified-id=\"&quot;Stores&quot;-Dataset-2.2.2\"><span class=\"toc-item-num\">2.2.2&nbsp;&nbsp;</span>\"Stores\" Dataset</a></span></li><li><span><a href=\"#&quot;Features&quot;-Dataset\" data-toc-modified-id=\"&quot;Features&quot;-Dataset-2.2.3\"><span class=\"toc-item-num\">2.2.3&nbsp;&nbsp;</span>\"Features\" Dataset</a></span></li></ul></li><li><span><a href=\"#2.3-Data-Merging\" data-toc-modified-id=\"2.3-Data-Merging-2.3\"><span class=\"toc-item-num\">2.3&nbsp;&nbsp;</span>2.3 Data Merging</a></span></li><li><span><a href=\"#2.4-Null-Handling\" data-toc-modified-id=\"2.4-Null-Handling-2.4\"><span class=\"toc-item-num\">2.4&nbsp;&nbsp;</span>2.4 Null Handling</a></span></li><li><span><a href=\"#Datatype-Handling\" data-toc-modified-id=\"Datatype-Handling-2.5\"><span class=\"toc-item-num\">2.5&nbsp;&nbsp;</span>Datatype Handling</a></span></li><li><span><a href=\"#Name-the-merged-initial-dataset-&quot;df&quot;\" data-toc-modified-id=\"Name-the-merged-initial-dataset-&quot;df&quot;-2.6\"><span class=\"toc-item-num\">2.6&nbsp;&nbsp;</span>Name the merged initial dataset \"df\"</a></span></li></ul></li><li><span><a href=\"#Exploratory-Data-Analysis\" data-toc-modified-id=\"Exploratory-Data-Analysis-3\"><span class=\"toc-item-num\">3&nbsp;&nbsp;</span>Exploratory Data Analysis</a></span><ul class=\"toc-item\"><li><span><a href=\"#Data-Visualization\" data-toc-modified-id=\"Data-Visualization-3.1\"><span class=\"toc-item-num\">3.1&nbsp;&nbsp;</span>Data Visualization</a></span><ul class=\"toc-item\"><li><span><a href=\"#Create-a-Visualization-Helper-Function\" data-toc-modified-id=\"Create-a-Visualization-Helper-Function-3.1.1\"><span class=\"toc-item-num\">3.1.1&nbsp;&nbsp;</span>Create a Visualization Helper Function</a></span></li><li><span><a href=\"#Correlations\" data-toc-modified-id=\"Correlations-3.1.2\"><span class=\"toc-item-num\">3.1.2&nbsp;&nbsp;</span>Correlations</a></span></li><li><span><a href=\"#Weekly-Sales\" data-toc-modified-id=\"Weekly-Sales-3.1.3\"><span class=\"toc-item-num\">3.1.3&nbsp;&nbsp;</span>Weekly Sales</a></span><ul class=\"toc-item\"><li><span><a href=\"#Mean-Weekly-Sales\" data-toc-modified-id=\"Mean-Weekly-Sales-3.1.3.1\"><span class=\"toc-item-num\">3.1.3.1&nbsp;&nbsp;</span>Mean Weekly Sales</a></span></li><li><span><a href=\"#Median-Weekly-Sales\" data-toc-modified-id=\"Median-Weekly-Sales-3.1.3.2\"><span class=\"toc-item-num\">3.1.3.2&nbsp;&nbsp;</span>Median Weekly Sales</a></span></li><li><span><a href=\"#Mean-&amp;-Median-Weekly-Sales-Boxplotted\" data-toc-modified-id=\"Mean-&amp;-Median-Weekly-Sales-Boxplotted-3.1.3.3\"><span class=\"toc-item-num\">3.1.3.3&nbsp;&nbsp;</span>Mean &amp; Median Weekly Sales Boxplotted</a></span></li></ul></li><li><span><a href=\"#Histograms\" data-toc-modified-id=\"Histograms-3.1.4\"><span class=\"toc-item-num\">3.1.4&nbsp;&nbsp;</span>Histograms</a></span><ul class=\"toc-item\"><li><span><a href=\"#Store-Size\" data-toc-modified-id=\"Store-Size-3.1.4.1\"><span class=\"toc-item-num\">3.1.4.1&nbsp;&nbsp;</span>Store Size</a></span></li><li><span><a href=\"#Fuel-Price\" data-toc-modified-id=\"Fuel-Price-3.1.4.2\"><span class=\"toc-item-num\">3.1.4.2&nbsp;&nbsp;</span>Fuel Price</a></span></li><li><span><a href=\"#Consumer-Price-Index\" data-toc-modified-id=\"Consumer-Price-Index-3.1.4.3\"><span class=\"toc-item-num\">3.1.4.3&nbsp;&nbsp;</span>Consumer Price Index</a></span></li><li><span><a href=\"#Unemployment\" data-toc-modified-id=\"Unemployment-3.1.4.4\"><span class=\"toc-item-num\">3.1.4.4&nbsp;&nbsp;</span>Unemployment</a></span></li><li><span><a href=\"#Markdowns\" data-toc-modified-id=\"Markdowns-3.1.4.5\"><span class=\"toc-item-num\">3.1.4.5&nbsp;&nbsp;</span>Markdowns</a></span></li></ul></li></ul></li></ul></li><li><span><a href=\"#Preprocessing-and-Training-Data-Development\" data-toc-modified-id=\"Preprocessing-and-Training-Data-Development-4\"><span class=\"toc-item-num\">4&nbsp;&nbsp;</span>Preprocessing and Training Data Development</a></span><ul class=\"toc-item\"><li><span><a href=\"#Preprocessing\" data-toc-modified-id=\"Preprocessing-4.1\"><span class=\"toc-item-num\">4.1&nbsp;&nbsp;</span>Preprocessing</a></span><ul class=\"toc-item\"><li><span><a href=\"#Import-Packages\" data-toc-modified-id=\"Import-Packages-4.1.1\"><span class=\"toc-item-num\">4.1.1&nbsp;&nbsp;</span>Import Packages</a></span></li><li><span><a href=\"#Scale-Numerics\" data-toc-modified-id=\"Scale-Numerics-4.1.2\"><span class=\"toc-item-num\">4.1.2&nbsp;&nbsp;</span>Scale Numerics</a></span></li><li><span><a href=\"#Encode-categoricals\" data-toc-modified-id=\"Encode-categoricals-4.1.3\"><span class=\"toc-item-num\">4.1.3&nbsp;&nbsp;</span>Encode categoricals</a></span></li><li><span><a href=\"#Convert-Booleans-to-0/1\" data-toc-modified-id=\"Convert-Booleans-to-0/1-4.1.4\"><span class=\"toc-item-num\">4.1.4&nbsp;&nbsp;</span>Convert Booleans to 0/1</a></span></li><li><span><a href=\"#Convert-datetime-to-date-features\" data-toc-modified-id=\"Convert-datetime-to-date-features-4.1.5\"><span class=\"toc-item-num\">4.1.5&nbsp;&nbsp;</span>Convert datetime to date features</a></span></li><li><span><a href=\"#Create-a-dataframe-for-unchanged-data\" data-toc-modified-id=\"Create-a-dataframe-for-unchanged-data-4.1.6\"><span class=\"toc-item-num\">4.1.6&nbsp;&nbsp;</span>Create a dataframe for unchanged data</a></span></li><li><span><a href=\"#Join-the-Preprocessed-Data\" data-toc-modified-id=\"Join-the-Preprocessed-Data-4.1.7\"><span class=\"toc-item-num\">4.1.7&nbsp;&nbsp;</span>Join the Preprocessed Data</a></span></li></ul></li><li><span><a href=\"#Split-Training-and-Testing-Data\" data-toc-modified-id=\"Split-Training-and-Testing-Data-4.2\"><span class=\"toc-item-num\">4.2&nbsp;&nbsp;</span>Split Training and Testing Data</a></span><ul class=\"toc-item\"><li><span><a href=\"#Import-Packages\" data-toc-modified-id=\"Import-Packages-4.2.1\"><span class=\"toc-item-num\">4.2.1&nbsp;&nbsp;</span>Import Packages</a></span></li><li><span><a href=\"#Split-Data\" data-toc-modified-id=\"Split-Data-4.2.2\"><span class=\"toc-item-num\">4.2.2&nbsp;&nbsp;</span>Split Data</a></span></li><li><span><a href=\"#Double-Check-the-Split\" data-toc-modified-id=\"Double-Check-the-Split-4.2.3\"><span class=\"toc-item-num\">4.2.3&nbsp;&nbsp;</span>Double-Check the Split</a></span></li></ul></li></ul></li><li><span><a href=\"#Modeling\" data-toc-modified-id=\"Modeling-5\"><span class=\"toc-item-num\">5&nbsp;&nbsp;</span>Modeling</a></span><ul class=\"toc-item\"><li><ul class=\"toc-item\"><li><ul class=\"toc-item\"><li><span><a href=\"#Create-a-dictionary-and-function-to-help-with-modeling\" data-toc-modified-id=\"Create-a-dictionary-and-function-to-help-with-modeling-5.0.0.1\"><span class=\"toc-item-num\">5.0.0.1&nbsp;&nbsp;</span>Create a dictionary and function to help with modeling</a></span></li></ul></li></ul></li><li><span><a href=\"#Model-Experimentation\" data-toc-modified-id=\"Model-Experimentation-5.1\"><span class=\"toc-item-num\">5.1&nbsp;&nbsp;</span>Model Experimentation</a></span><ul class=\"toc-item\"><li><span><a href=\"#OLS-Linear-Regression\" data-toc-modified-id=\"OLS-Linear-Regression-5.1.1\"><span class=\"toc-item-num\">5.1.1&nbsp;&nbsp;</span>OLS Linear Regression</a></span></li><li><span><a href=\"#Elastic-Net-Regression\" data-toc-modified-id=\"Elastic-Net-Regression-5.1.2\"><span class=\"toc-item-num\">5.1.2&nbsp;&nbsp;</span>Elastic-Net Regression</a></span></li><li><span><a href=\"#Bayesian-ARD-Regression\" data-toc-modified-id=\"Bayesian-ARD-Regression-5.1.3\"><span class=\"toc-item-num\">5.1.3&nbsp;&nbsp;</span>Bayesian ARD Regression</a></span></li><li><span><a href=\"#Decision-Tree-Regression\" data-toc-modified-id=\"Decision-Tree-Regression-5.1.4\"><span class=\"toc-item-num\">5.1.4&nbsp;&nbsp;</span>Decision-Tree Regression</a></span></li><li><span><a href=\"#Random-Forest-Regression\" data-toc-modified-id=\"Random-Forest-Regression-5.1.5\"><span class=\"toc-item-num\">5.1.5&nbsp;&nbsp;</span>Random-Forest Regression</a></span></li><li><span><a href=\"#Gradient-Boosting-Regression\" data-toc-modified-id=\"Gradient-Boosting-Regression-5.1.6\"><span class=\"toc-item-num\">5.1.6&nbsp;&nbsp;</span>Gradient-Boosting Regression</a></span></li></ul></li><li><span><a href=\"#Choosing-the-Best-Model(s)\" data-toc-modified-id=\"Choosing-the-Best-Model(s)-5.2\"><span class=\"toc-item-num\">5.2&nbsp;&nbsp;</span>Choosing the Best Model(s)</a></span><ul class=\"toc-item\"><li><span><a href=\"#Model-Choice\" data-toc-modified-id=\"Model-Choice-5.2.1\"><span class=\"toc-item-num\">5.2.1&nbsp;&nbsp;</span>Model Choice</a></span></li></ul></li><li><span><a href=\"#Improving-Chosen-Model(s)\" data-toc-modified-id=\"Improving-Chosen-Model(s)-5.3\"><span class=\"toc-item-num\">5.3&nbsp;&nbsp;</span>Improving Chosen Model(s)</a></span><ul class=\"toc-item\"><li><span><a href=\"#Random-Forest-Regressor\" data-toc-modified-id=\"Random-Forest-Regressor-5.3.1\"><span class=\"toc-item-num\">5.3.1&nbsp;&nbsp;</span>Random-Forest Regressor</a></span></li><li><span><a href=\"#Decision-Tree-Regressor\" data-toc-modified-id=\"Decision-Tree-Regressor-5.3.2\"><span class=\"toc-item-num\">5.3.2&nbsp;&nbsp;</span>Decision-Tree Regressor</a></span></li></ul></li><li><span><a href=\"#The-Final-Model:-Decision-Tree-Regressor\" data-toc-modified-id=\"The-Final-Model:-Decision-Tree-Regressor-5.4\"><span class=\"toc-item-num\">5.4&nbsp;&nbsp;</span>The Final Model: Decision-Tree Regressor</a></span><ul class=\"toc-item\"><li><span><a href=\"#Randomized-Search-for-Optimal-Hyperparameters\" data-toc-modified-id=\"Randomized-Search-for-Optimal-Hyperparameters-5.4.1\"><span class=\"toc-item-num\">5.4.1&nbsp;&nbsp;</span>Randomized Search for Optimal Hyperparameters</a></span></li><li><span><a href=\"#Training-and-Predictions\" data-toc-modified-id=\"Training-and-Predictions-5.4.2\"><span class=\"toc-item-num\">5.4.2&nbsp;&nbsp;</span>Training and Predictions</a></span></li><li><span><a href=\"#Interpretation-of-the-Model\" data-toc-modified-id=\"Interpretation-of-the-Model-5.4.3\"><span class=\"toc-item-num\">5.4.3&nbsp;&nbsp;</span>Interpretation of the Model</a></span></li></ul></li></ul></li><li><span><a href=\"#Results\" data-toc-modified-id=\"Results-6\"><span class=\"toc-item-num\">6&nbsp;&nbsp;</span>Results</a></span><ul class=\"toc-item\"><li><span><a href=\"#Mean-Absolute-Error-of-Predictions\" data-toc-modified-id=\"Mean-Absolute-Error-of-Predictions-6.1\"><span class=\"toc-item-num\">6.1&nbsp;&nbsp;</span>Mean Absolute Error of Predictions</a></span></li><li><span><a href=\"#Results-Visualized\" data-toc-modified-id=\"Results-Visualized-6.2\"><span class=\"toc-item-num\">6.2&nbsp;&nbsp;</span>Results Visualized</a></span></li></ul></li></ul></div>"
   ]
  },
  {
   "cell_type": "markdown",
   "metadata": {},
   "source": [
    "<a id='Import_Packages'></a>\n",
    "# Import Packages"
   ]
  },
  {
   "cell_type": "code",
   "execution_count": 1,
   "metadata": {},
   "outputs": [],
   "source": [
    "import pandas as pd\n",
    "import numpy as np\n",
    "import pandas_profiling\n",
    "import matplotlib.pyplot as plt\n",
    "import seaborn as sns\n",
    "import math"
   ]
  },
  {
   "cell_type": "markdown",
   "metadata": {},
   "source": [
    "<a id='Data_Wrangling'></a>\n",
    "# Data Wrangling"
   ]
  },
  {
   "cell_type": "markdown",
   "metadata": {},
   "source": [
    "<a id='Importing_Files'></a>\n",
    "## Importing Files"
   ]
  },
  {
   "cell_type": "code",
   "execution_count": 2,
   "metadata": {},
   "outputs": [],
   "source": [
    "# Import the file: walmart_features\n",
    "features_file_path = r'walmart_data\\walmart_features.csv'\n",
    "features_df = pd.read_csv(features_file_path, parse_dates=['Date'])"
   ]
  },
  {
   "cell_type": "code",
   "execution_count": 3,
   "metadata": {},
   "outputs": [],
   "source": [
    "# Import the file: walmart_stores\n",
    "stores_file_path = r'walmart_data\\walmart_stores.csv'\n",
    "stores_df = pd.read_csv(stores_file_path)"
   ]
  },
  {
   "cell_type": "code",
   "execution_count": 4,
   "metadata": {},
   "outputs": [],
   "source": [
    "# Import the file: walmart_data\n",
    "data_file_path = r'walmart_data\\walmart_train.csv'\n",
    "data_df = file = pd.read_csv(data_file_path, parse_dates=['Date'])"
   ]
  },
  {
   "cell_type": "markdown",
   "metadata": {},
   "source": [
    "<a id='Data_Cleaning_and_Initial_Analysis'></a>\n",
    "## Data Cleaning and Initial Analysis"
   ]
  },
  {
   "cell_type": "markdown",
   "metadata": {},
   "source": [
    "### \"Data\" Dataset"
   ]
  },
  {
   "cell_type": "code",
   "execution_count": 5,
   "metadata": {
    "scrolled": true
   },
   "outputs": [
    {
     "data": {
      "text/html": [
       "<div>\n",
       "<style scoped>\n",
       "    .dataframe tbody tr th:only-of-type {\n",
       "        vertical-align: middle;\n",
       "    }\n",
       "\n",
       "    .dataframe tbody tr th {\n",
       "        vertical-align: top;\n",
       "    }\n",
       "\n",
       "    .dataframe thead th {\n",
       "        text-align: right;\n",
       "    }\n",
       "</style>\n",
       "<table border=\"1\" class=\"dataframe\">\n",
       "  <thead>\n",
       "    <tr style=\"text-align: right;\">\n",
       "      <th></th>\n",
       "      <th>Store</th>\n",
       "      <th>Dept</th>\n",
       "      <th>Date</th>\n",
       "      <th>Weekly_Sales</th>\n",
       "      <th>IsHoliday</th>\n",
       "    </tr>\n",
       "  </thead>\n",
       "  <tbody>\n",
       "    <tr>\n",
       "      <th>0</th>\n",
       "      <td>1</td>\n",
       "      <td>1</td>\n",
       "      <td>2010-02-05</td>\n",
       "      <td>24924.50</td>\n",
       "      <td>False</td>\n",
       "    </tr>\n",
       "    <tr>\n",
       "      <th>1</th>\n",
       "      <td>1</td>\n",
       "      <td>1</td>\n",
       "      <td>2010-02-12</td>\n",
       "      <td>46039.49</td>\n",
       "      <td>True</td>\n",
       "    </tr>\n",
       "    <tr>\n",
       "      <th>2</th>\n",
       "      <td>1</td>\n",
       "      <td>1</td>\n",
       "      <td>2010-02-19</td>\n",
       "      <td>41595.55</td>\n",
       "      <td>False</td>\n",
       "    </tr>\n",
       "    <tr>\n",
       "      <th>3</th>\n",
       "      <td>1</td>\n",
       "      <td>1</td>\n",
       "      <td>2010-02-26</td>\n",
       "      <td>19403.54</td>\n",
       "      <td>False</td>\n",
       "    </tr>\n",
       "    <tr>\n",
       "      <th>4</th>\n",
       "      <td>1</td>\n",
       "      <td>1</td>\n",
       "      <td>2010-03-05</td>\n",
       "      <td>21827.90</td>\n",
       "      <td>False</td>\n",
       "    </tr>\n",
       "  </tbody>\n",
       "</table>\n",
       "</div>"
      ],
      "text/plain": [
       "   Store  Dept       Date  Weekly_Sales  IsHoliday\n",
       "0      1     1 2010-02-05      24924.50      False\n",
       "1      1     1 2010-02-12      46039.49       True\n",
       "2      1     1 2010-02-19      41595.55      False\n",
       "3      1     1 2010-02-26      19403.54      False\n",
       "4      1     1 2010-03-05      21827.90      False"
      ]
     },
     "execution_count": 5,
     "metadata": {},
     "output_type": "execute_result"
    }
   ],
   "source": [
    "data_df.head()"
   ]
  },
  {
   "cell_type": "code",
   "execution_count": 6,
   "metadata": {},
   "outputs": [
    {
     "name": "stdout",
     "output_type": "stream",
     "text": [
      "<class 'pandas.core.frame.DataFrame'>\n",
      "RangeIndex: 421570 entries, 0 to 421569\n",
      "Data columns (total 5 columns):\n",
      " #   Column        Non-Null Count   Dtype         \n",
      "---  ------        --------------   -----         \n",
      " 0   Store         421570 non-null  int64         \n",
      " 1   Dept          421570 non-null  int64         \n",
      " 2   Date          421570 non-null  datetime64[ns]\n",
      " 3   Weekly_Sales  421570 non-null  float64       \n",
      " 4   IsHoliday     421570 non-null  bool          \n",
      "dtypes: bool(1), datetime64[ns](1), float64(1), int64(2)\n",
      "memory usage: 13.3 MB\n"
     ]
    }
   ],
   "source": [
    "data_df.info()"
   ]
  },
  {
   "cell_type": "code",
   "execution_count": 7,
   "metadata": {},
   "outputs": [
    {
     "data": {
      "text/plain": [
       "array([2010, 2011, 2012], dtype=int64)"
      ]
     },
     "execution_count": 7,
     "metadata": {},
     "output_type": "execute_result"
    }
   ],
   "source": [
    "# What years are present in 'data'?\n",
    "data_df['Date'].dt.year.unique()"
   ]
  },
  {
   "cell_type": "code",
   "execution_count": 8,
   "metadata": {
    "scrolled": true
   },
   "outputs": [
    {
     "data": {
      "text/plain": [
       "array([ 1,  2,  3,  4,  5,  6,  7,  8,  9, 10, 11, 12, 13, 14, 15, 16, 17,\n",
       "       18, 19, 20, 21, 22, 23, 24, 25, 26, 27, 28, 29, 30, 31, 32, 33, 34,\n",
       "       35, 36, 37, 38, 39, 40, 41, 42, 43, 44, 45], dtype=int64)"
      ]
     },
     "execution_count": 8,
     "metadata": {},
     "output_type": "execute_result"
    }
   ],
   "source": [
    "data_df['Store'].unique()"
   ]
  },
  {
   "cell_type": "code",
   "execution_count": 9,
   "metadata": {
    "scrolled": true
   },
   "outputs": [
    {
     "data": {
      "text/plain": [
       "array([ 1,  2,  3,  4,  5,  6,  7,  8,  9, 10, 11, 12, 13, 14, 16, 17, 18,\n",
       "       19, 20, 21, 22, 23, 24, 25, 26, 27, 28, 29, 30, 31, 32, 33, 34, 35,\n",
       "       36, 37, 38, 39, 40, 41, 42, 43, 44, 45, 46, 47, 48, 49, 50, 51, 52,\n",
       "       54, 55, 56, 58, 59, 60, 65, 67, 71, 72, 74, 77, 78, 79, 80, 81, 82,\n",
       "       83, 85, 87, 90, 91, 92, 93, 94, 95, 96, 97, 98, 99], dtype=int64)"
      ]
     },
     "execution_count": 9,
     "metadata": {},
     "output_type": "execute_result"
    }
   ],
   "source": [
    "data_df['Dept'].sort_values().unique()"
   ]
  },
  {
   "cell_type": "markdown",
   "metadata": {},
   "source": [
    "### \"Stores\" Dataset"
   ]
  },
  {
   "cell_type": "code",
   "execution_count": 10,
   "metadata": {},
   "outputs": [
    {
     "data": {
      "text/html": [
       "<div>\n",
       "<style scoped>\n",
       "    .dataframe tbody tr th:only-of-type {\n",
       "        vertical-align: middle;\n",
       "    }\n",
       "\n",
       "    .dataframe tbody tr th {\n",
       "        vertical-align: top;\n",
       "    }\n",
       "\n",
       "    .dataframe thead th {\n",
       "        text-align: right;\n",
       "    }\n",
       "</style>\n",
       "<table border=\"1\" class=\"dataframe\">\n",
       "  <thead>\n",
       "    <tr style=\"text-align: right;\">\n",
       "      <th></th>\n",
       "      <th>Store</th>\n",
       "      <th>Type</th>\n",
       "      <th>Size</th>\n",
       "    </tr>\n",
       "  </thead>\n",
       "  <tbody>\n",
       "    <tr>\n",
       "      <th>0</th>\n",
       "      <td>1</td>\n",
       "      <td>A</td>\n",
       "      <td>151315</td>\n",
       "    </tr>\n",
       "    <tr>\n",
       "      <th>1</th>\n",
       "      <td>2</td>\n",
       "      <td>A</td>\n",
       "      <td>202307</td>\n",
       "    </tr>\n",
       "    <tr>\n",
       "      <th>2</th>\n",
       "      <td>3</td>\n",
       "      <td>B</td>\n",
       "      <td>37392</td>\n",
       "    </tr>\n",
       "    <tr>\n",
       "      <th>3</th>\n",
       "      <td>4</td>\n",
       "      <td>A</td>\n",
       "      <td>205863</td>\n",
       "    </tr>\n",
       "    <tr>\n",
       "      <th>4</th>\n",
       "      <td>5</td>\n",
       "      <td>B</td>\n",
       "      <td>34875</td>\n",
       "    </tr>\n",
       "  </tbody>\n",
       "</table>\n",
       "</div>"
      ],
      "text/plain": [
       "   Store Type    Size\n",
       "0      1    A  151315\n",
       "1      2    A  202307\n",
       "2      3    B   37392\n",
       "3      4    A  205863\n",
       "4      5    B   34875"
      ]
     },
     "execution_count": 10,
     "metadata": {},
     "output_type": "execute_result"
    }
   ],
   "source": [
    "stores_df.head()"
   ]
  },
  {
   "cell_type": "code",
   "execution_count": 11,
   "metadata": {
    "scrolled": true
   },
   "outputs": [
    {
     "name": "stdout",
     "output_type": "stream",
     "text": [
      "<class 'pandas.core.frame.DataFrame'>\n",
      "RangeIndex: 45 entries, 0 to 44\n",
      "Data columns (total 3 columns):\n",
      " #   Column  Non-Null Count  Dtype \n",
      "---  ------  --------------  ----- \n",
      " 0   Store   45 non-null     int64 \n",
      " 1   Type    45 non-null     object\n",
      " 2   Size    45 non-null     int64 \n",
      "dtypes: int64(2), object(1)\n",
      "memory usage: 1.2+ KB\n"
     ]
    }
   ],
   "source": [
    "stores_df.info()"
   ]
  },
  {
   "cell_type": "code",
   "execution_count": 12,
   "metadata": {
    "scrolled": true
   },
   "outputs": [
    {
     "data": {
      "text/html": [
       "<div>\n",
       "<style scoped>\n",
       "    .dataframe tbody tr th:only-of-type {\n",
       "        vertical-align: middle;\n",
       "    }\n",
       "\n",
       "    .dataframe tbody tr th {\n",
       "        vertical-align: top;\n",
       "    }\n",
       "\n",
       "    .dataframe thead th {\n",
       "        text-align: right;\n",
       "    }\n",
       "</style>\n",
       "<table border=\"1\" class=\"dataframe\">\n",
       "  <thead>\n",
       "    <tr style=\"text-align: right;\">\n",
       "      <th></th>\n",
       "      <th>count</th>\n",
       "      <th>mean</th>\n",
       "      <th>std</th>\n",
       "      <th>min</th>\n",
       "      <th>25%</th>\n",
       "      <th>50%</th>\n",
       "      <th>75%</th>\n",
       "      <th>max</th>\n",
       "    </tr>\n",
       "    <tr>\n",
       "      <th>Type</th>\n",
       "      <th></th>\n",
       "      <th></th>\n",
       "      <th></th>\n",
       "      <th></th>\n",
       "      <th></th>\n",
       "      <th></th>\n",
       "      <th></th>\n",
       "      <th></th>\n",
       "    </tr>\n",
       "  </thead>\n",
       "  <tbody>\n",
       "    <tr>\n",
       "      <th>A</th>\n",
       "      <td>22.0</td>\n",
       "      <td>177247.727273</td>\n",
       "      <td>49392.621098</td>\n",
       "      <td>39690.0</td>\n",
       "      <td>155840.75</td>\n",
       "      <td>202406.0</td>\n",
       "      <td>203819.0</td>\n",
       "      <td>219622.0</td>\n",
       "    </tr>\n",
       "    <tr>\n",
       "      <th>B</th>\n",
       "      <td>17.0</td>\n",
       "      <td>101190.705882</td>\n",
       "      <td>32371.137916</td>\n",
       "      <td>34875.0</td>\n",
       "      <td>93188.00</td>\n",
       "      <td>114533.0</td>\n",
       "      <td>123737.0</td>\n",
       "      <td>140167.0</td>\n",
       "    </tr>\n",
       "    <tr>\n",
       "      <th>C</th>\n",
       "      <td>6.0</td>\n",
       "      <td>40541.666667</td>\n",
       "      <td>1304.145033</td>\n",
       "      <td>39690.0</td>\n",
       "      <td>39745.00</td>\n",
       "      <td>39910.0</td>\n",
       "      <td>40774.0</td>\n",
       "      <td>42988.0</td>\n",
       "    </tr>\n",
       "  </tbody>\n",
       "</table>\n",
       "</div>"
      ],
      "text/plain": [
       "      count           mean           std      min        25%       50%  \\\n",
       "Type                                                                     \n",
       "A      22.0  177247.727273  49392.621098  39690.0  155840.75  202406.0   \n",
       "B      17.0  101190.705882  32371.137916  34875.0   93188.00  114533.0   \n",
       "C       6.0   40541.666667   1304.145033  39690.0   39745.00   39910.0   \n",
       "\n",
       "           75%       max  \n",
       "Type                      \n",
       "A     203819.0  219622.0  \n",
       "B     123737.0  140167.0  \n",
       "C      40774.0   42988.0  "
      ]
     },
     "execution_count": 12,
     "metadata": {},
     "output_type": "execute_result"
    }
   ],
   "source": [
    "# What are the simple statistics of these stores' sizes, grouped by type?\n",
    "stores_df.groupby('Type')['Size'].describe()"
   ]
  },
  {
   "cell_type": "markdown",
   "metadata": {},
   "source": [
    "### \"Features\" Dataset"
   ]
  },
  {
   "cell_type": "code",
   "execution_count": 13,
   "metadata": {},
   "outputs": [
    {
     "data": {
      "text/html": [
       "<div>\n",
       "<style scoped>\n",
       "    .dataframe tbody tr th:only-of-type {\n",
       "        vertical-align: middle;\n",
       "    }\n",
       "\n",
       "    .dataframe tbody tr th {\n",
       "        vertical-align: top;\n",
       "    }\n",
       "\n",
       "    .dataframe thead th {\n",
       "        text-align: right;\n",
       "    }\n",
       "</style>\n",
       "<table border=\"1\" class=\"dataframe\">\n",
       "  <thead>\n",
       "    <tr style=\"text-align: right;\">\n",
       "      <th></th>\n",
       "      <th>Store</th>\n",
       "      <th>Date</th>\n",
       "      <th>Temperature</th>\n",
       "      <th>Fuel_Price</th>\n",
       "      <th>MarkDown1</th>\n",
       "      <th>MarkDown2</th>\n",
       "      <th>MarkDown3</th>\n",
       "      <th>MarkDown4</th>\n",
       "      <th>MarkDown5</th>\n",
       "      <th>CPI</th>\n",
       "      <th>Unemployment</th>\n",
       "      <th>IsHoliday</th>\n",
       "    </tr>\n",
       "  </thead>\n",
       "  <tbody>\n",
       "    <tr>\n",
       "      <th>0</th>\n",
       "      <td>1</td>\n",
       "      <td>2010-02-05</td>\n",
       "      <td>42.31</td>\n",
       "      <td>2.572</td>\n",
       "      <td>NaN</td>\n",
       "      <td>NaN</td>\n",
       "      <td>NaN</td>\n",
       "      <td>NaN</td>\n",
       "      <td>NaN</td>\n",
       "      <td>211.096358</td>\n",
       "      <td>8.106</td>\n",
       "      <td>False</td>\n",
       "    </tr>\n",
       "    <tr>\n",
       "      <th>1</th>\n",
       "      <td>1</td>\n",
       "      <td>2010-02-12</td>\n",
       "      <td>38.51</td>\n",
       "      <td>2.548</td>\n",
       "      <td>NaN</td>\n",
       "      <td>NaN</td>\n",
       "      <td>NaN</td>\n",
       "      <td>NaN</td>\n",
       "      <td>NaN</td>\n",
       "      <td>211.242170</td>\n",
       "      <td>8.106</td>\n",
       "      <td>True</td>\n",
       "    </tr>\n",
       "    <tr>\n",
       "      <th>2</th>\n",
       "      <td>1</td>\n",
       "      <td>2010-02-19</td>\n",
       "      <td>39.93</td>\n",
       "      <td>2.514</td>\n",
       "      <td>NaN</td>\n",
       "      <td>NaN</td>\n",
       "      <td>NaN</td>\n",
       "      <td>NaN</td>\n",
       "      <td>NaN</td>\n",
       "      <td>211.289143</td>\n",
       "      <td>8.106</td>\n",
       "      <td>False</td>\n",
       "    </tr>\n",
       "    <tr>\n",
       "      <th>3</th>\n",
       "      <td>1</td>\n",
       "      <td>2010-02-26</td>\n",
       "      <td>46.63</td>\n",
       "      <td>2.561</td>\n",
       "      <td>NaN</td>\n",
       "      <td>NaN</td>\n",
       "      <td>NaN</td>\n",
       "      <td>NaN</td>\n",
       "      <td>NaN</td>\n",
       "      <td>211.319643</td>\n",
       "      <td>8.106</td>\n",
       "      <td>False</td>\n",
       "    </tr>\n",
       "    <tr>\n",
       "      <th>4</th>\n",
       "      <td>1</td>\n",
       "      <td>2010-03-05</td>\n",
       "      <td>46.50</td>\n",
       "      <td>2.625</td>\n",
       "      <td>NaN</td>\n",
       "      <td>NaN</td>\n",
       "      <td>NaN</td>\n",
       "      <td>NaN</td>\n",
       "      <td>NaN</td>\n",
       "      <td>211.350143</td>\n",
       "      <td>8.106</td>\n",
       "      <td>False</td>\n",
       "    </tr>\n",
       "  </tbody>\n",
       "</table>\n",
       "</div>"
      ],
      "text/plain": [
       "   Store       Date  Temperature  Fuel_Price  MarkDown1  MarkDown2  MarkDown3  \\\n",
       "0      1 2010-02-05        42.31       2.572        NaN        NaN        NaN   \n",
       "1      1 2010-02-12        38.51       2.548        NaN        NaN        NaN   \n",
       "2      1 2010-02-19        39.93       2.514        NaN        NaN        NaN   \n",
       "3      1 2010-02-26        46.63       2.561        NaN        NaN        NaN   \n",
       "4      1 2010-03-05        46.50       2.625        NaN        NaN        NaN   \n",
       "\n",
       "   MarkDown4  MarkDown5         CPI  Unemployment  IsHoliday  \n",
       "0        NaN        NaN  211.096358         8.106      False  \n",
       "1        NaN        NaN  211.242170         8.106       True  \n",
       "2        NaN        NaN  211.289143         8.106      False  \n",
       "3        NaN        NaN  211.319643         8.106      False  \n",
       "4        NaN        NaN  211.350143         8.106      False  "
      ]
     },
     "execution_count": 13,
     "metadata": {},
     "output_type": "execute_result"
    }
   ],
   "source": [
    "features_df.head()"
   ]
  },
  {
   "cell_type": "code",
   "execution_count": 14,
   "metadata": {
    "scrolled": true
   },
   "outputs": [
    {
     "name": "stdout",
     "output_type": "stream",
     "text": [
      "<class 'pandas.core.frame.DataFrame'>\n",
      "RangeIndex: 8190 entries, 0 to 8189\n",
      "Data columns (total 12 columns):\n",
      " #   Column        Non-Null Count  Dtype         \n",
      "---  ------        --------------  -----         \n",
      " 0   Store         8190 non-null   int64         \n",
      " 1   Date          8190 non-null   datetime64[ns]\n",
      " 2   Temperature   8190 non-null   float64       \n",
      " 3   Fuel_Price    8190 non-null   float64       \n",
      " 4   MarkDown1     4032 non-null   float64       \n",
      " 5   MarkDown2     2921 non-null   float64       \n",
      " 6   MarkDown3     3613 non-null   float64       \n",
      " 7   MarkDown4     3464 non-null   float64       \n",
      " 8   MarkDown5     4050 non-null   float64       \n",
      " 9   CPI           7605 non-null   float64       \n",
      " 10  Unemployment  7605 non-null   float64       \n",
      " 11  IsHoliday     8190 non-null   bool          \n",
      "dtypes: bool(1), datetime64[ns](1), float64(9), int64(1)\n",
      "memory usage: 712.0 KB\n"
     ]
    }
   ],
   "source": [
    "features_df.info()"
   ]
  },
  {
   "cell_type": "code",
   "execution_count": 15,
   "metadata": {
    "scrolled": true
   },
   "outputs": [
    {
     "data": {
      "text/plain": [
       "[2010, 2011, 2012, 2013]"
      ]
     },
     "execution_count": 15,
     "metadata": {},
     "output_type": "execute_result"
    }
   ],
   "source": [
    "# What years are covered by the \"features\" file?\n",
    "features_df.Date.dt.year.unique().tolist()"
   ]
  },
  {
   "cell_type": "code",
   "execution_count": 16,
   "metadata": {
    "scrolled": false
   },
   "outputs": [
    {
     "data": {
      "text/html": [
       "<div>\n",
       "<style scoped>\n",
       "    .dataframe tbody tr th:only-of-type {\n",
       "        vertical-align: middle;\n",
       "    }\n",
       "\n",
       "    .dataframe tbody tr th {\n",
       "        vertical-align: top;\n",
       "    }\n",
       "\n",
       "    .dataframe thead th {\n",
       "        text-align: right;\n",
       "    }\n",
       "</style>\n",
       "<table border=\"1\" class=\"dataframe\">\n",
       "  <thead>\n",
       "    <tr style=\"text-align: right;\">\n",
       "      <th></th>\n",
       "      <th>Store</th>\n",
       "      <th>Date</th>\n",
       "      <th>Temperature</th>\n",
       "      <th>Fuel_Price</th>\n",
       "      <th>MarkDown1</th>\n",
       "      <th>MarkDown2</th>\n",
       "      <th>MarkDown3</th>\n",
       "      <th>MarkDown4</th>\n",
       "      <th>MarkDown5</th>\n",
       "      <th>CPI</th>\n",
       "      <th>Unemployment</th>\n",
       "      <th>IsHoliday</th>\n",
       "    </tr>\n",
       "  </thead>\n",
       "  <tbody>\n",
       "    <tr>\n",
       "      <th>92</th>\n",
       "      <td>1</td>\n",
       "      <td>2011-11-11</td>\n",
       "      <td>59.11</td>\n",
       "      <td>3.297</td>\n",
       "      <td>10382.90</td>\n",
       "      <td>6115.67</td>\n",
       "      <td>215.07</td>\n",
       "      <td>2406.62</td>\n",
       "      <td>6551.42</td>\n",
       "      <td>217.998085</td>\n",
       "      <td>7.866</td>\n",
       "      <td>False</td>\n",
       "    </tr>\n",
       "    <tr>\n",
       "      <th>93</th>\n",
       "      <td>1</td>\n",
       "      <td>2011-11-18</td>\n",
       "      <td>62.25</td>\n",
       "      <td>3.308</td>\n",
       "      <td>6074.12</td>\n",
       "      <td>254.39</td>\n",
       "      <td>51.98</td>\n",
       "      <td>427.39</td>\n",
       "      <td>5988.57</td>\n",
       "      <td>218.220509</td>\n",
       "      <td>7.866</td>\n",
       "      <td>False</td>\n",
       "    </tr>\n",
       "    <tr>\n",
       "      <th>94</th>\n",
       "      <td>1</td>\n",
       "      <td>2011-11-25</td>\n",
       "      <td>60.14</td>\n",
       "      <td>3.236</td>\n",
       "      <td>410.31</td>\n",
       "      <td>98.00</td>\n",
       "      <td>55805.51</td>\n",
       "      <td>8.00</td>\n",
       "      <td>554.92</td>\n",
       "      <td>218.467621</td>\n",
       "      <td>7.866</td>\n",
       "      <td>True</td>\n",
       "    </tr>\n",
       "    <tr>\n",
       "      <th>95</th>\n",
       "      <td>1</td>\n",
       "      <td>2011-12-02</td>\n",
       "      <td>48.91</td>\n",
       "      <td>3.172</td>\n",
       "      <td>5629.51</td>\n",
       "      <td>68.00</td>\n",
       "      <td>1398.11</td>\n",
       "      <td>2084.64</td>\n",
       "      <td>20475.32</td>\n",
       "      <td>218.714733</td>\n",
       "      <td>7.866</td>\n",
       "      <td>False</td>\n",
       "    </tr>\n",
       "    <tr>\n",
       "      <th>96</th>\n",
       "      <td>1</td>\n",
       "      <td>2011-12-09</td>\n",
       "      <td>43.93</td>\n",
       "      <td>3.158</td>\n",
       "      <td>4640.65</td>\n",
       "      <td>19.00</td>\n",
       "      <td>105.02</td>\n",
       "      <td>3639.42</td>\n",
       "      <td>14461.82</td>\n",
       "      <td>218.961846</td>\n",
       "      <td>7.866</td>\n",
       "      <td>False</td>\n",
       "    </tr>\n",
       "  </tbody>\n",
       "</table>\n",
       "</div>"
      ],
      "text/plain": [
       "    Store       Date  Temperature  Fuel_Price  MarkDown1  MarkDown2  \\\n",
       "92      1 2011-11-11        59.11       3.297   10382.90    6115.67   \n",
       "93      1 2011-11-18        62.25       3.308    6074.12     254.39   \n",
       "94      1 2011-11-25        60.14       3.236     410.31      98.00   \n",
       "95      1 2011-12-02        48.91       3.172    5629.51      68.00   \n",
       "96      1 2011-12-09        43.93       3.158    4640.65      19.00   \n",
       "\n",
       "    MarkDown3  MarkDown4  MarkDown5         CPI  Unemployment  IsHoliday  \n",
       "92     215.07    2406.62    6551.42  217.998085         7.866      False  \n",
       "93      51.98     427.39    5988.57  218.220509         7.866      False  \n",
       "94   55805.51       8.00     554.92  218.467621         7.866       True  \n",
       "95    1398.11    2084.64   20475.32  218.714733         7.866      False  \n",
       "96     105.02    3639.42   14461.82  218.961846         7.866      False  "
      ]
     },
     "execution_count": 16,
     "metadata": {},
     "output_type": "execute_result"
    }
   ],
   "source": [
    "# Many of the markdown columns are null, this is likely because there are simply not markdowns applied to these dates.\n",
    "# Let's see some observations of MarkDown1 which aren't null.\n",
    "features_df[features_df.MarkDown1.notnull()].head()"
   ]
  },
  {
   "cell_type": "code",
   "execution_count": 17,
   "metadata": {
    "scrolled": true
   },
   "outputs": [
    {
     "data": {
      "text/html": [
       "<div>\n",
       "<style scoped>\n",
       "    .dataframe tbody tr th:only-of-type {\n",
       "        vertical-align: middle;\n",
       "    }\n",
       "\n",
       "    .dataframe tbody tr th {\n",
       "        vertical-align: top;\n",
       "    }\n",
       "\n",
       "    .dataframe thead th {\n",
       "        text-align: right;\n",
       "    }\n",
       "</style>\n",
       "<table border=\"1\" class=\"dataframe\">\n",
       "  <thead>\n",
       "    <tr style=\"text-align: right;\">\n",
       "      <th></th>\n",
       "      <th>Store</th>\n",
       "      <th>Date</th>\n",
       "      <th>Temperature</th>\n",
       "      <th>Fuel_Price</th>\n",
       "      <th>MarkDown1</th>\n",
       "      <th>MarkDown2</th>\n",
       "      <th>MarkDown3</th>\n",
       "      <th>MarkDown4</th>\n",
       "      <th>MarkDown5</th>\n",
       "      <th>CPI</th>\n",
       "      <th>Unemployment</th>\n",
       "      <th>IsHoliday</th>\n",
       "    </tr>\n",
       "  </thead>\n",
       "  <tbody>\n",
       "    <tr>\n",
       "      <th>169</th>\n",
       "      <td>1</td>\n",
       "      <td>2013-05-03</td>\n",
       "      <td>66.66</td>\n",
       "      <td>3.386</td>\n",
       "      <td>2298.63</td>\n",
       "      <td>2.00</td>\n",
       "      <td>129.90</td>\n",
       "      <td>55.46</td>\n",
       "      <td>1301.04</td>\n",
       "      <td>NaN</td>\n",
       "      <td>NaN</td>\n",
       "      <td>False</td>\n",
       "    </tr>\n",
       "    <tr>\n",
       "      <th>170</th>\n",
       "      <td>1</td>\n",
       "      <td>2013-05-10</td>\n",
       "      <td>63.90</td>\n",
       "      <td>3.392</td>\n",
       "      <td>4624.61</td>\n",
       "      <td>83.88</td>\n",
       "      <td>42.38</td>\n",
       "      <td>1618.31</td>\n",
       "      <td>8144.90</td>\n",
       "      <td>NaN</td>\n",
       "      <td>NaN</td>\n",
       "      <td>False</td>\n",
       "    </tr>\n",
       "    <tr>\n",
       "      <th>171</th>\n",
       "      <td>1</td>\n",
       "      <td>2013-05-17</td>\n",
       "      <td>69.53</td>\n",
       "      <td>3.454</td>\n",
       "      <td>16170.50</td>\n",
       "      <td>92.00</td>\n",
       "      <td>8.32</td>\n",
       "      <td>4127.24</td>\n",
       "      <td>6206.97</td>\n",
       "      <td>NaN</td>\n",
       "      <td>NaN</td>\n",
       "      <td>False</td>\n",
       "    </tr>\n",
       "    <tr>\n",
       "      <th>172</th>\n",
       "      <td>1</td>\n",
       "      <td>2013-05-24</td>\n",
       "      <td>77.19</td>\n",
       "      <td>3.494</td>\n",
       "      <td>7959.89</td>\n",
       "      <td>178.00</td>\n",
       "      <td>1621.47</td>\n",
       "      <td>3152.57</td>\n",
       "      <td>2938.70</td>\n",
       "      <td>NaN</td>\n",
       "      <td>NaN</td>\n",
       "      <td>False</td>\n",
       "    </tr>\n",
       "    <tr>\n",
       "      <th>173</th>\n",
       "      <td>1</td>\n",
       "      <td>2013-05-31</td>\n",
       "      <td>78.02</td>\n",
       "      <td>3.466</td>\n",
       "      <td>2369.77</td>\n",
       "      <td>142.45</td>\n",
       "      <td>475.35</td>\n",
       "      <td>45.55</td>\n",
       "      <td>2056.84</td>\n",
       "      <td>NaN</td>\n",
       "      <td>NaN</td>\n",
       "      <td>False</td>\n",
       "    </tr>\n",
       "  </tbody>\n",
       "</table>\n",
       "</div>"
      ],
      "text/plain": [
       "     Store       Date  Temperature  Fuel_Price  MarkDown1  MarkDown2  \\\n",
       "169      1 2013-05-03        66.66       3.386    2298.63       2.00   \n",
       "170      1 2013-05-10        63.90       3.392    4624.61      83.88   \n",
       "171      1 2013-05-17        69.53       3.454   16170.50      92.00   \n",
       "172      1 2013-05-24        77.19       3.494    7959.89     178.00   \n",
       "173      1 2013-05-31        78.02       3.466    2369.77     142.45   \n",
       "\n",
       "     MarkDown3  MarkDown4  MarkDown5  CPI  Unemployment  IsHoliday  \n",
       "169     129.90      55.46    1301.04  NaN           NaN      False  \n",
       "170      42.38    1618.31    8144.90  NaN           NaN      False  \n",
       "171       8.32    4127.24    6206.97  NaN           NaN      False  \n",
       "172    1621.47    3152.57    2938.70  NaN           NaN      False  \n",
       "173     475.35      45.55    2056.84  NaN           NaN      False  "
      ]
     },
     "execution_count": 17,
     "metadata": {},
     "output_type": "execute_result"
    }
   ],
   "source": [
    "# Let's look at null CPI observations in context.\n",
    "features_df[features_df['CPI'].isnull()].head()"
   ]
  },
  {
   "cell_type": "markdown",
   "metadata": {},
   "source": [
    "There are many null values, however, they all occur within \"Markdown\" columns. It seems I should leave these alone as only rows with markdown events occurring within them have their respective markdowns."
   ]
  },
  {
   "cell_type": "markdown",
   "metadata": {},
   "source": [
    "<a id='Data_Merging'></a>\n",
    "## 2.3 Data Merging"
   ]
  },
  {
   "cell_type": "markdown",
   "metadata": {},
   "source": [
    "Now all of the datasets have been cleaned and an initial analysis has been made.\n",
    "\n",
    "It seems potentially useful features for predicting store-department-date sales (that's the grouping for the desired prediction; it's odd to read, I agree) are separated between these dataframes.\n",
    "\n",
    "Let's merge them together."
   ]
  },
  {
   "cell_type": "code",
   "execution_count": 18,
   "metadata": {
    "scrolled": true
   },
   "outputs": [
    {
     "name": "stdout",
     "output_type": "stream",
     "text": [
      "['Store', 'Dept', 'Date', 'Weekly_Sales', 'IsHoliday']\n",
      "['Store', 'Type', 'Size']\n",
      "['Store', 'Date', 'Temperature', 'Fuel_Price', 'MarkDown1', 'MarkDown2', 'MarkDown3', 'MarkDown4', 'MarkDown5', 'CPI', 'Unemployment', 'IsHoliday']\n"
     ]
    }
   ],
   "source": [
    "print(data_df.columns.tolist())\n",
    "print(stores_df.columns.tolist())\n",
    "print(features_df.columns.tolist())"
   ]
  },
  {
   "cell_type": "code",
   "execution_count": 19,
   "metadata": {},
   "outputs": [
    {
     "name": "stdout",
     "output_type": "stream",
     "text": [
      "(421570, 5)\n",
      "(45, 3)\n",
      "(8190, 12)\n"
     ]
    }
   ],
   "source": [
    "# Check the shapes of the datasets before merging, to make sure that data isn't lost\n",
    "print(data_df.shape)\n",
    "print(stores_df.shape)\n",
    "print(features_df.shape)"
   ]
  },
  {
   "cell_type": "code",
   "execution_count": 20,
   "metadata": {
    "scrolled": true
   },
   "outputs": [
    {
     "data": {
      "text/plain": [
       "(421570, 7)"
      ]
     },
     "execution_count": 20,
     "metadata": {},
     "output_type": "execute_result"
    }
   ],
   "source": [
    "# Let's start by inner joining the stores dataset onto data dataset\n",
    "merged_data = data_df.merge(stores_df)\n",
    "merged_data.shape"
   ]
  },
  {
   "cell_type": "code",
   "execution_count": 21,
   "metadata": {
    "scrolled": true
   },
   "outputs": [
    {
     "data": {
      "text/plain": [
       "(421570, 16)"
      ]
     },
     "execution_count": 21,
     "metadata": {},
     "output_type": "execute_result"
    }
   ],
   "source": [
    "# Looks like nothing was lost, the same amount of observations remain and the features increased by the correct amount\n",
    "merged_data = merged_data.merge(features_df)\n",
    "merged_data.shape"
   ]
  },
  {
   "cell_type": "code",
   "execution_count": 22,
   "metadata": {
    "scrolled": false
   },
   "outputs": [
    {
     "name": "stdout",
     "output_type": "stream",
     "text": [
      "<class 'pandas.core.frame.DataFrame'>\n",
      "Int64Index: 421570 entries, 0 to 421569\n",
      "Data columns (total 16 columns):\n",
      " #   Column        Non-Null Count   Dtype         \n",
      "---  ------        --------------   -----         \n",
      " 0   Store         421570 non-null  int64         \n",
      " 1   Dept          421570 non-null  int64         \n",
      " 2   Date          421570 non-null  datetime64[ns]\n",
      " 3   Weekly_Sales  421570 non-null  float64       \n",
      " 4   IsHoliday     421570 non-null  bool          \n",
      " 5   Type          421570 non-null  object        \n",
      " 6   Size          421570 non-null  int64         \n",
      " 7   Temperature   421570 non-null  float64       \n",
      " 8   Fuel_Price    421570 non-null  float64       \n",
      " 9   MarkDown1     150681 non-null  float64       \n",
      " 10  MarkDown2     111248 non-null  float64       \n",
      " 11  MarkDown3     137091 non-null  float64       \n",
      " 12  MarkDown4     134967 non-null  float64       \n",
      " 13  MarkDown5     151432 non-null  float64       \n",
      " 14  CPI           421570 non-null  float64       \n",
      " 15  Unemployment  421570 non-null  float64       \n",
      "dtypes: bool(1), datetime64[ns](1), float64(10), int64(3), object(1)\n",
      "memory usage: 51.9+ MB\n"
     ]
    }
   ],
   "source": [
    "merged_data.info()"
   ]
  },
  {
   "cell_type": "markdown",
   "metadata": {},
   "source": [
    "Again, nothing was lost and the new features were added. Great!"
   ]
  },
  {
   "cell_type": "markdown",
   "metadata": {},
   "source": [
    "<a id='Null_Handling'></a>\n",
    "## 2.4 Null Handling"
   ]
  },
  {
   "cell_type": "code",
   "execution_count": 23,
   "metadata": {
    "scrolled": true
   },
   "outputs": [
    {
     "data": {
      "text/plain": [
       "['MarkDown1', 'MarkDown2', 'MarkDown3', 'MarkDown4', 'MarkDown5']"
      ]
     },
     "execution_count": 23,
     "metadata": {},
     "output_type": "execute_result"
    }
   ],
   "source": [
    "# Find columns which have any null values\n",
    "null_columns = merged_data.columns[merged_data.isna().any()].tolist()\n",
    "null_columns"
   ]
  },
  {
   "cell_type": "markdown",
   "metadata": {},
   "source": [
    "Since these are all markdowns, and we can infer that null values imply a markdown of \"$0\", I'll impute the nulls with 0"
   ]
  },
  {
   "cell_type": "code",
   "execution_count": 24,
   "metadata": {
    "scrolled": false
   },
   "outputs": [
    {
     "data": {
      "text/plain": [
       "MarkDown1    0\n",
       "MarkDown2    0\n",
       "MarkDown3    0\n",
       "MarkDown4    0\n",
       "MarkDown5    0\n",
       "dtype: int64"
      ]
     },
     "execution_count": 24,
     "metadata": {},
     "output_type": "execute_result"
    }
   ],
   "source": [
    "# Impute the null columns with 0s and convert them to ints\n",
    "for column in null_columns:\n",
    "    merged_data[column].fillna(value=0, inplace=True)\n",
    "for column in null_columns:\n",
    "    merged_data[column] = merged_data[column].astype(int)\n",
    "\n",
    "merged_data[null_columns].isna().sum()"
   ]
  },
  {
   "cell_type": "markdown",
   "metadata": {},
   "source": [
    "<a id='Datatype_Handling'></a>\n",
    "## Datatype Handling"
   ]
  },
  {
   "cell_type": "markdown",
   "metadata": {},
   "source": [
    "Let's check the datatypes to see if they're in their most useful forms"
   ]
  },
  {
   "cell_type": "code",
   "execution_count": 25,
   "metadata": {},
   "outputs": [
    {
     "data": {
      "text/plain": [
       "Store                    int64\n",
       "Dept                     int64\n",
       "Date            datetime64[ns]\n",
       "Weekly_Sales           float64\n",
       "IsHoliday                 bool\n",
       "Type                    object\n",
       "Size                     int64\n",
       "Temperature            float64\n",
       "Fuel_Price             float64\n",
       "MarkDown1                int32\n",
       "MarkDown2                int32\n",
       "MarkDown3                int32\n",
       "MarkDown4                int32\n",
       "MarkDown5                int32\n",
       "CPI                    float64\n",
       "Unemployment           float64\n",
       "dtype: object"
      ]
     },
     "execution_count": 25,
     "metadata": {},
     "output_type": "execute_result"
    }
   ],
   "source": [
    "merged_data.dtypes"
   ]
  },
  {
   "cell_type": "code",
   "execution_count": 26,
   "metadata": {},
   "outputs": [
    {
     "data": {
      "text/plain": [
       "Store    category\n",
       "Dept     category\n",
       "dtype: object"
      ]
     },
     "execution_count": 26,
     "metadata": {},
     "output_type": "execute_result"
    }
   ],
   "source": [
    "# Looks like Store and Department are int, let's change them to category\n",
    "merged_data['Store'] = merged_data['Store'].astype('category')\n",
    "merged_data['Dept'] = merged_data['Dept'].astype('category')\n",
    "\n",
    "merged_data[['Store', 'Dept']].dtypes"
   ]
  },
  {
   "cell_type": "code",
   "execution_count": 27,
   "metadata": {},
   "outputs": [
    {
     "data": {
      "text/plain": [
       "array(['A', 'B', 'C'], dtype=object)"
      ]
     },
     "execution_count": 27,
     "metadata": {},
     "output_type": "execute_result"
    }
   ],
   "source": [
    "# Type is of dtype \"object\", as in string, let's check it out\n",
    "merged_data['Type'].unique()"
   ]
  },
  {
   "cell_type": "code",
   "execution_count": 28,
   "metadata": {},
   "outputs": [
    {
     "data": {
      "text/plain": [
       "CategoricalDtype(categories=['A', 'B', 'C'], ordered=False)"
      ]
     },
     "execution_count": 28,
     "metadata": {},
     "output_type": "execute_result"
    }
   ],
   "source": [
    "# Type should be of dtype category, let's change it now\n",
    "merged_data['Type'] = merged_data['Type'].astype('category')\n",
    "\n",
    "merged_data['Type'].dtypes"
   ]
  },
  {
   "cell_type": "markdown",
   "metadata": {},
   "source": [
    "<a id='Name_it_df'></a>\n",
    "## Name the merged initial dataset \"df\""
   ]
  },
  {
   "cell_type": "code",
   "execution_count": 29,
   "metadata": {},
   "outputs": [],
   "source": [
    "df = merged_data"
   ]
  },
  {
   "cell_type": "code",
   "execution_count": 30,
   "metadata": {},
   "outputs": [
    {
     "data": {
      "text/plain": [
       "True"
      ]
     },
     "execution_count": 30,
     "metadata": {},
     "output_type": "execute_result"
    }
   ],
   "source": [
    "# Is df just a pointer to merged_data?\n",
    "df is merged_data"
   ]
  },
  {
   "cell_type": "markdown",
   "metadata": {},
   "source": [
    "<a id='Exploratory_Data_Analysis'></a>\n",
    "# Exploratory Data Analysis"
   ]
  },
  {
   "cell_type": "markdown",
   "metadata": {},
   "source": [
    "<a id='Data_Visualization'></a>\n",
    "## Data Visualization"
   ]
  },
  {
   "cell_type": "markdown",
   "metadata": {},
   "source": [
    "### Create a Visualization Helper Function"
   ]
  },
  {
   "cell_type": "code",
   "execution_count": 31,
   "metadata": {},
   "outputs": [],
   "source": [
    "def save_and_show_plot(filename, format=None):\n",
    "    \"\"\"Save a matplotlib plot with the given filename and format, then show the plot\"\"\"\n",
    "    \n",
    "    fig = plt.gcf()\n",
    "    \n",
    "    filepath = 'Visualizations/' + filename.replace(' ','_')\n",
    "    fig.savefig(filepath, format=format, bbox_inches='tight', transparent=True)\n",
    "    \n",
    "    plt.show()"
   ]
  },
  {
   "cell_type": "code",
   "execution_count": 32,
   "metadata": {},
   "outputs": [],
   "source": [
    "plt.rcParams['axes.grid'] = True\n",
    "plt.rcParams['savefig.transparent'] = True"
   ]
  },
  {
   "cell_type": "markdown",
   "metadata": {},
   "source": [
    "### Correlations"
   ]
  },
  {
   "cell_type": "code",
   "execution_count": 33,
   "metadata": {},
   "outputs": [],
   "source": [
    "# Define a function to generate a features correlations heatmap\n",
    "def gen_corr_heatmap(dataframe, title, mask=True, annot=False, save=False):\n",
    "    plt.figure(figsize=(10, 8))\n",
    "    sns.set(font_scale=1)\n",
    "\n",
    "    if mask == True:\n",
    "        mask = np.zeros_like(dataframe.corr())\n",
    "        mask[np.triu_indices_from(mask)] = True\n",
    "\n",
    "    with sns.axes_style('white'):\n",
    "        sns.heatmap(dataframe.corr(), vmin=-1, vmax=1,\n",
    "                    mask=mask, center=0, annot=annot, cmap='bwr')\n",
    "\n",
    "    plt.title(f'\\n{title}\\n', fontsize=18)\n",
    "\n",
    "    if save:\n",
    "        filepath = title + '.png'\n",
    "        save_and_show_plot(filepath)"
   ]
  },
  {
   "cell_type": "code",
   "execution_count": 34,
   "metadata": {
    "scrolled": false
   },
   "outputs": [
    {
     "data": {
      "image/png": "[encoded data removed]",
      "text/plain": [
       "<Figure size 720x576 with 2 Axes>"
      ]
     },
     "metadata": {
      "needs_background": "light"
     },
     "output_type": "display_data"
    }
   ],
   "source": [
    "gen_corr_heatmap(df, title='Feature Correlations', mask=False, save=True)"
   ]
  },
  {
   "cell_type": "markdown",
   "metadata": {},
   "source": [
    "Overall there aren't very high correlations, but notable correlations are:\n",
    "\n",
    "- MarkDown1 with MarkDown4, though that's (probably) not useful\n",
    "- IsHoliday with MarkDown3"
   ]
  },
  {
   "cell_type": "markdown",
   "metadata": {},
   "source": [
    "Let's focus on the target feature: Weekly_Sales"
   ]
  },
  {
   "cell_type": "code",
   "execution_count": 35,
   "metadata": {},
   "outputs": [],
   "source": [
    "# Define a function to generate a correlation heatmap between the target feature and other features\n",
    "def gen_corr_to_target(dataframe, target, title, annot=False, save=None):\n",
    "    plt.figure(figsize=(4, 6))\n",
    "    sns.set(font_scale=1)\n",
    "\n",
    "    sns.heatmap(dataframe.corr()[[target]].sort_values(target, ascending=False)[1:], vmin=-1, vmax=1,\n",
    "                center=0, annot=annot, cmap='bwr')\n",
    "\n",
    "    plt.title(f'\\n{title}\\n', fontsize=18)\n",
    "        \n",
    "    if save:\n",
    "        filepath = title + '.png'\n",
    "        save_and_show_plot(filepath)"
   ]
  },
  {
   "cell_type": "code",
   "execution_count": 36,
   "metadata": {
    "scrolled": false
   },
   "outputs": [
    {
     "data": {
      "image/png": "[encoded data removed]",
      "text/plain": [
       "<Figure size 288x432 with 2 Axes>"
      ]
     },
     "metadata": {},
     "output_type": "display_data"
    }
   ],
   "source": [
    "gen_corr_to_target(dataframe=df, target='Weekly_Sales', title='Weekly Sales vs Features Correlations', annot=True, save=True)"
   ]
  },
  {
   "cell_type": "markdown",
   "metadata": {},
   "source": [
    "Here we can focus in on the important correlations, but none are very high correlations."
   ]
  },
  {
   "cell_type": "markdown",
   "metadata": {},
   "source": [
    "We haven't yet visualized the correlation of Weekly_Sales and Date yet, let's see that."
   ]
  },
  {
   "cell_type": "markdown",
   "metadata": {},
   "source": [
    "### Weekly Sales"
   ]
  },
  {
   "cell_type": "markdown",
   "metadata": {},
   "source": [
    "To be clear, this is the aggregated weekly sales grouped by year and then week.\n",
    "\n",
    "So it contains the sales of all stores and their departments and is thus indicative of macro-scale sales."
   ]
  },
  {
   "cell_type": "code",
   "execution_count": 37,
   "metadata": {
    "scrolled": true
   },
   "outputs": [
    {
     "data": {
      "text/html": [
       "<div>\n",
       "<style scoped>\n",
       "    .dataframe tbody tr th:only-of-type {\n",
       "        vertical-align: middle;\n",
       "    }\n",
       "\n",
       "    .dataframe tbody tr th {\n",
       "        vertical-align: top;\n",
       "    }\n",
       "\n",
       "    .dataframe thead th {\n",
       "        text-align: right;\n",
       "    }\n",
       "</style>\n",
       "<table border=\"1\" class=\"dataframe\">\n",
       "  <thead>\n",
       "    <tr style=\"text-align: right;\">\n",
       "      <th></th>\n",
       "      <th>Weekly_Sales</th>\n",
       "      <th>Year</th>\n",
       "      <th>Week</th>\n",
       "      <th>IsHoliday</th>\n",
       "    </tr>\n",
       "  </thead>\n",
       "  <tbody>\n",
       "    <tr>\n",
       "      <th>0</th>\n",
       "      <td>24924.50</td>\n",
       "      <td>2010</td>\n",
       "      <td>5</td>\n",
       "      <td>False</td>\n",
       "    </tr>\n",
       "    <tr>\n",
       "      <th>1</th>\n",
       "      <td>50605.27</td>\n",
       "      <td>2010</td>\n",
       "      <td>5</td>\n",
       "      <td>False</td>\n",
       "    </tr>\n",
       "    <tr>\n",
       "      <th>2</th>\n",
       "      <td>13740.12</td>\n",
       "      <td>2010</td>\n",
       "      <td>5</td>\n",
       "      <td>False</td>\n",
       "    </tr>\n",
       "    <tr>\n",
       "      <th>3</th>\n",
       "      <td>39954.04</td>\n",
       "      <td>2010</td>\n",
       "      <td>5</td>\n",
       "      <td>False</td>\n",
       "    </tr>\n",
       "    <tr>\n",
       "      <th>4</th>\n",
       "      <td>32229.38</td>\n",
       "      <td>2010</td>\n",
       "      <td>5</td>\n",
       "      <td>False</td>\n",
       "    </tr>\n",
       "  </tbody>\n",
       "</table>\n",
       "</div>"
      ],
      "text/plain": [
       "   Weekly_Sales  Year  Week  IsHoliday\n",
       "0      24924.50  2010     5      False\n",
       "1      50605.27  2010     5      False\n",
       "2      13740.12  2010     5      False\n",
       "3      39954.04  2010     5      False\n",
       "4      32229.38  2010     5      False"
      ]
     },
     "execution_count": 37,
     "metadata": {},
     "output_type": "execute_result"
    }
   ],
   "source": [
    "# Create a DataFrame to visualize the year vs. Weekly_Sales vs. [time-period].\n",
    "date_df = pd.DataFrame()\n",
    "date_df['Weekly_Sales'] = df.Weekly_Sales\n",
    "date_df['Year'] = df.Date.dt.isocalendar().year\n",
    "date_df['Week'] = df.Date.dt.isocalendar().week\n",
    "date_df['IsHoliday'] = df['IsHoliday']\n",
    "\n",
    "date_df.head()"
   ]
  },
  {
   "cell_type": "markdown",
   "metadata": {},
   "source": [
    "#### Mean Weekly Sales"
   ]
  },
  {
   "cell_type": "code",
   "execution_count": 38,
   "metadata": {
    "scrolled": true
   },
   "outputs": [
    {
     "data": {
      "image/png": "[encoded data removed]",
      "text/plain": [
       "<Figure size 1144.1x360 with 3 Axes>"
      ]
     },
     "metadata": {},
     "output_type": "display_data"
    }
   ],
   "source": [
    "# Plot MEAN weekly sales vs. week per year\n",
    "mean_plot_data = date_df.groupby(['Year', 'Week']).mean()\n",
    "mean_plot_data = mean_plot_data.reset_index().rename(\n",
    "    {'Weekly_Sales': 'Mean_Weekly_Sales'}, axis=1)\n",
    "\n",
    "sns.relplot(data=mean_plot_data, x='Week', y='Mean_Weekly_Sales',\n",
    "            col='Year', hue='Year', palette='tab10', kind='line')\n",
    "\n",
    "save_and_show_plot('Mean_Weekly_Sales_Histogram.png')"
   ]
  },
  {
   "cell_type": "markdown",
   "metadata": {},
   "source": [
    "#### Median Weekly Sales"
   ]
  },
  {
   "cell_type": "code",
   "execution_count": 39,
   "metadata": {},
   "outputs": [],
   "source": [
    "# Plot MEDIAN weekly sales vs. week per year\n",
    "median_plot_data = date_df.groupby(['Year', 'Week']).median()\n",
    "median_plot_data = median_plot_data.reset_index().rename(\n",
    "    {'Weekly_Sales': 'Median_Weekly_Sales'}, axis=1)"
   ]
  },
  {
   "cell_type": "code",
   "execution_count": 40,
   "metadata": {
    "scrolled": true
   },
   "outputs": [
    {
     "data": {
      "image/png": "[encoded data removed]",
      "text/plain": [
       "<Figure size 1144.1x360 with 3 Axes>"
      ]
     },
     "metadata": {},
     "output_type": "display_data"
    }
   ],
   "source": [
    "sns.relplot(data=median_plot_data, x='Week', y='Median_Weekly_Sales',\n",
    "            col='Year', hue='Year', palette='tab10', kind='line')\n",
    "plt.title('Median Weekly Sales')\n",
    "\n",
    "save_and_show_plot('Median_Weekly_Sales_Histogram.png')"
   ]
  },
  {
   "cell_type": "code",
   "execution_count": 41,
   "metadata": {},
   "outputs": [
    {
     "data": {
      "image/png": "[encoded data removed]",
      "text/plain": [
       "<Figure size 1080x576 with 1 Axes>"
      ]
     },
     "metadata": {},
     "output_type": "display_data"
    }
   ],
   "source": [
    "plt.figure(figsize=(15,8))\n",
    "sns.lineplot(data=median_plot_data, x='Week', y='Median_Weekly_Sales', hue='Year', palette='tab10')\n",
    "plt.axvline(x=6)\n",
    "plt.axvline(x=36)\n",
    "plt.axvline(x=47)\n",
    "plt.axvline(x=52)\n",
    "plt.title('Median Weekly Sales with Holidays')\n",
    "\n",
    "save_and_show_plot('Median_Weekly_Sales_with_Holidays.png')"
   ]
  },
  {
   "cell_type": "markdown",
   "metadata": {},
   "source": [
    "#### Mean & Median Weekly Sales Boxplotted"
   ]
  },
  {
   "cell_type": "code",
   "execution_count": 42,
   "metadata": {
    "scrolled": false
   },
   "outputs": [
    {
     "data": {
      "image/png": "[encoded data removed]",
      "text/plain": [
       "<Figure size 864x432 with 2 Axes>"
      ]
     },
     "metadata": {},
     "output_type": "display_data"
    }
   ],
   "source": [
    "# Plot boxplots for the mean and median weekly sales per year\n",
    "fig, ax = plt.subplots(1, 2, figsize=[12, 6], sharey=True)\n",
    "sns.boxplot(ax=ax[0], data=mean_plot_data, x='Year',\n",
    "            y='Mean_Weekly_Sales', palette='tab10')\n",
    "sns.boxplot(ax=ax[1], data=median_plot_data, x='Year',\n",
    "            y='Median_Weekly_Sales', palette='tab10')\n",
    "\n",
    "save_and_show_plot('Mean_Median_Weekly_Sales_Boxplot.png')"
   ]
  },
  {
   "cell_type": "markdown",
   "metadata": {},
   "source": [
    "### Histograms"
   ]
  },
  {
   "cell_type": "markdown",
   "metadata": {},
   "source": [
    "#### Store Size"
   ]
  },
  {
   "cell_type": "code",
   "execution_count": 43,
   "metadata": {
    "scrolled": true
   },
   "outputs": [
    {
     "data": {
      "image/png": "[encoded data removed]",
      "text/plain": [
       "<Figure size 1080x360 with 1 Axes>"
      ]
     },
     "metadata": {},
     "output_type": "display_data"
    }
   ],
   "source": [
    "df['Size'].hist(bins=50, figsize=[15, 5])\n",
    "plt.title('Store Size Histogram')\n",
    "plt.xlabel('Store Size')\n",
    "plt.ylabel('Count')\n",
    "\n",
    "save_and_show_plot('Store_Size_Histogram.png')"
   ]
  },
  {
   "cell_type": "markdown",
   "metadata": {},
   "source": [
    "#### Fuel Price"
   ]
  },
  {
   "cell_type": "code",
   "execution_count": 44,
   "metadata": {
    "scrolled": true
   },
   "outputs": [
    {
     "data": {
      "image/png": "[encoded data removed]",
      "text/plain": [
       "<Figure size 1080x360 with 1 Axes>"
      ]
     },
     "metadata": {},
     "output_type": "display_data"
    }
   ],
   "source": [
    "df['Fuel_Price'].hist(bins=50, figsize=[15, 5])\n",
    "plt.title('Fuel Price Histogram')\n",
    "plt.xlabel('Fuel Price ($)')\n",
    "plt.ylabel('Count')\n",
    "\n",
    "save_and_show_plot('Fuel_Price_Histogram.png')"
   ]
  },
  {
   "cell_type": "markdown",
   "metadata": {},
   "source": [
    "#### Consumer Price Index"
   ]
  },
  {
   "cell_type": "code",
   "execution_count": 45,
   "metadata": {
    "scrolled": false
   },
   "outputs": [
    {
     "data": {
      "image/png": "[encoded data removed]",
      "text/plain": [
       "<Figure size 1080x360 with 1 Axes>"
      ]
     },
     "metadata": {},
     "output_type": "display_data"
    }
   ],
   "source": [
    "df['CPI'].hist(bins=50, figsize=[15, 5])\n",
    "plt.title('CPI Histogram')\n",
    "plt.xlabel('Consumer Price Index')\n",
    "plt.ylabel('Count')\n",
    "\n",
    "save_and_show_plot('CPI_Histogram.png')"
   ]
  },
  {
   "cell_type": "markdown",
   "metadata": {},
   "source": [
    "#### Unemployment"
   ]
  },
  {
   "cell_type": "code",
   "execution_count": 46,
   "metadata": {
    "scrolled": true
   },
   "outputs": [
    {
     "data": {
      "image/png": "[encoded data removed]",
      "text/plain": [
       "<Figure size 1080x360 with 1 Axes>"
      ]
     },
     "metadata": {},
     "output_type": "display_data"
    }
   ],
   "source": [
    "df['Unemployment'].hist(bins=50, figsize=[15, 5])\n",
    "plt.title('Unemployment Histogram')\n",
    "plt.xlabel('Unemployment')\n",
    "plt.ylabel('Count')\n",
    "\n",
    "save_and_show_plot('Unemployment_Histogram.png')"
   ]
  },
  {
   "cell_type": "markdown",
   "metadata": {},
   "source": [
    "#### Markdowns"
   ]
  },
  {
   "cell_type": "code",
   "execution_count": 47,
   "metadata": {
    "scrolled": false
   },
   "outputs": [
    {
     "data": {
      "image/png": "[encoded data removed]",
      "text/plain": [
       "<Figure size 1080x1080 with 5 Axes>"
      ]
     },
     "metadata": {},
     "output_type": "display_data"
    }
   ],
   "source": [
    "fig, ax = plt.subplots(5, 1, figsize=[15, 15], sharex=True, sharey=False)\n",
    "colors = plt.rcParams[\"axes.prop_cycle\"]()\n",
    "\n",
    "for i in range(0, 5):\n",
    "    c = next(colors)['color']\n",
    "    ax[i].hist(x=df['MarkDown'+str(i+1)][(df['MarkDown'+str(i+1)] > 0) & (df['MarkDown'+str(i+1)] < 10000)],\n",
    "               bins=50, color=c)\n",
    "    ax[i].set_title('Markdown '+str(i+1))\n",
    "\n",
    "plt.xlabel('Markdown in $')\n",
    "fig.suptitle('\\$0 < Markdown < \\$10,000 Histograms')\n",
    "fig.tight_layout()\n",
    "\n",
    "save_and_show_plot('Markdown_Histogram.png')"
   ]
  },
  {
   "cell_type": "markdown",
   "metadata": {},
   "source": [
    "<b>The above histogram shows counts of markdowns' values, it's limited to values between \\\\$0 and $10,000 as values above these reduce valuable information visible, and there are just few values past these.\n",
    "\n",
    "i.e. This is the valuable information.<b>"
   ]
  },
  {
   "cell_type": "markdown",
   "metadata": {},
   "source": [
    "<a id='Preprocessing_and_Training_Data_Development'></a>\n",
    "# Preprocessing and Training Data Development"
   ]
  },
  {
   "cell_type": "markdown",
   "metadata": {},
   "source": [
    "<a id='Preprocessing'></a>\n",
    "## Preprocessing"
   ]
  },
  {
   "cell_type": "markdown",
   "metadata": {},
   "source": [
    "### Import Packages"
   ]
  },
  {
   "cell_type": "code",
   "execution_count": 48,
   "metadata": {},
   "outputs": [],
   "source": [
    "from sklearn.preprocessing import StandardScaler"
   ]
  },
  {
   "cell_type": "markdown",
   "metadata": {},
   "source": [
    "### Scale Numerics"
   ]
  },
  {
   "cell_type": "code",
   "execution_count": 49,
   "metadata": {},
   "outputs": [
    {
     "data": {
      "text/plain": [
       "['Weekly_Sales',\n",
       " 'Temperature',\n",
       " 'Fuel_Price',\n",
       " 'MarkDown1',\n",
       " 'MarkDown2',\n",
       " 'MarkDown3',\n",
       " 'MarkDown4',\n",
       " 'MarkDown5',\n",
       " 'CPI',\n",
       " 'Unemployment']"
      ]
     },
     "execution_count": 49,
     "metadata": {},
     "output_type": "execute_result"
    }
   ],
   "source": [
    "# Capture the numeric column names as a list for later use\n",
    "numeric_columns = df.select_dtypes([int, float]).columns.tolist()\n",
    "\n",
    "# Preview the numeric dtypes in the data\n",
    "df.select_dtypes([int, float]).columns.tolist()"
   ]
  },
  {
   "cell_type": "code",
   "execution_count": 50,
   "metadata": {},
   "outputs": [
    {
     "data": {
      "text/html": [
       "<div>\n",
       "<style scoped>\n",
       "    .dataframe tbody tr th:only-of-type {\n",
       "        vertical-align: middle;\n",
       "    }\n",
       "\n",
       "    .dataframe tbody tr th {\n",
       "        vertical-align: top;\n",
       "    }\n",
       "\n",
       "    .dataframe thead th {\n",
       "        text-align: right;\n",
       "    }\n",
       "</style>\n",
       "<table border=\"1\" class=\"dataframe\">\n",
       "  <thead>\n",
       "    <tr style=\"text-align: right;\">\n",
       "      <th></th>\n",
       "      <th>Weekly_Sales</th>\n",
       "      <th>Temperature</th>\n",
       "      <th>Fuel_Price</th>\n",
       "      <th>MarkDown1</th>\n",
       "      <th>MarkDown2</th>\n",
       "      <th>MarkDown3</th>\n",
       "      <th>MarkDown4</th>\n",
       "      <th>MarkDown5</th>\n",
       "      <th>CPI</th>\n",
       "      <th>Unemployment</th>\n",
       "    </tr>\n",
       "  </thead>\n",
       "  <tbody>\n",
       "    <tr>\n",
       "      <th>0</th>\n",
       "      <td>0.393782</td>\n",
       "      <td>-0.963798</td>\n",
       "      <td>-1.720834</td>\n",
       "      <td>-0.427924</td>\n",
       "      <td>-0.173047</td>\n",
       "      <td>-0.084636</td>\n",
       "      <td>-0.278084</td>\n",
       "      <td>-0.39515</td>\n",
       "      <td>1.018774</td>\n",
       "      <td>0.078201</td>\n",
       "    </tr>\n",
       "    <tr>\n",
       "      <th>1</th>\n",
       "      <td>1.524538</td>\n",
       "      <td>-0.963798</td>\n",
       "      <td>-1.720834</td>\n",
       "      <td>-0.427924</td>\n",
       "      <td>-0.173047</td>\n",
       "      <td>-0.084636</td>\n",
       "      <td>-0.278084</td>\n",
       "      <td>-0.39515</td>\n",
       "      <td>1.018774</td>\n",
       "      <td>0.078201</td>\n",
       "    </tr>\n",
       "    <tr>\n",
       "      <th>2</th>\n",
       "      <td>-0.098680</td>\n",
       "      <td>-0.963798</td>\n",
       "      <td>-1.720834</td>\n",
       "      <td>-0.427924</td>\n",
       "      <td>-0.173047</td>\n",
       "      <td>-0.084636</td>\n",
       "      <td>-0.278084</td>\n",
       "      <td>-0.39515</td>\n",
       "      <td>1.018774</td>\n",
       "      <td>0.078201</td>\n",
       "    </tr>\n",
       "    <tr>\n",
       "      <th>3</th>\n",
       "      <td>1.055551</td>\n",
       "      <td>-0.963798</td>\n",
       "      <td>-1.720834</td>\n",
       "      <td>-0.427924</td>\n",
       "      <td>-0.173047</td>\n",
       "      <td>-0.084636</td>\n",
       "      <td>-0.278084</td>\n",
       "      <td>-0.39515</td>\n",
       "      <td>1.018774</td>\n",
       "      <td>0.078201</td>\n",
       "    </tr>\n",
       "    <tr>\n",
       "      <th>4</th>\n",
       "      <td>0.715425</td>\n",
       "      <td>-0.963798</td>\n",
       "      <td>-1.720834</td>\n",
       "      <td>-0.427924</td>\n",
       "      <td>-0.173047</td>\n",
       "      <td>-0.084636</td>\n",
       "      <td>-0.278084</td>\n",
       "      <td>-0.39515</td>\n",
       "      <td>1.018774</td>\n",
       "      <td>0.078201</td>\n",
       "    </tr>\n",
       "  </tbody>\n",
       "</table>\n",
       "</div>"
      ],
      "text/plain": [
       "   Weekly_Sales  Temperature  Fuel_Price  MarkDown1  MarkDown2  MarkDown3  \\\n",
       "0      0.393782    -0.963798   -1.720834  -0.427924  -0.173047  -0.084636   \n",
       "1      1.524538    -0.963798   -1.720834  -0.427924  -0.173047  -0.084636   \n",
       "2     -0.098680    -0.963798   -1.720834  -0.427924  -0.173047  -0.084636   \n",
       "3      1.055551    -0.963798   -1.720834  -0.427924  -0.173047  -0.084636   \n",
       "4      0.715425    -0.963798   -1.720834  -0.427924  -0.173047  -0.084636   \n",
       "\n",
       "   MarkDown4  MarkDown5       CPI  Unemployment  \n",
       "0  -0.278084   -0.39515  1.018774      0.078201  \n",
       "1  -0.278084   -0.39515  1.018774      0.078201  \n",
       "2  -0.278084   -0.39515  1.018774      0.078201  \n",
       "3  -0.278084   -0.39515  1.018774      0.078201  \n",
       "4  -0.278084   -0.39515  1.018774      0.078201  "
      ]
     },
     "execution_count": 50,
     "metadata": {},
     "output_type": "execute_result"
    }
   ],
   "source": [
    "# Create a scaler, then fit the scaler to the numeric data and transform it\n",
    "scaler = StandardScaler()\n",
    "scaled_numeric = scaler.fit_transform(df.select_dtypes([int, float]))\n",
    "\n",
    "# With the transformed data, create a labeled DataFrame\n",
    "prep_numeric = pd.DataFrame(scaled_numeric, columns=numeric_columns)\n",
    "prep_numeric.head()"
   ]
  },
  {
   "cell_type": "markdown",
   "metadata": {},
   "source": [
    "### Encode categoricals"
   ]
  },
  {
   "cell_type": "code",
   "execution_count": 51,
   "metadata": {},
   "outputs": [
    {
     "data": {
      "text/plain": [
       "['Store', 'Dept', 'Type']"
      ]
     },
     "execution_count": 51,
     "metadata": {},
     "output_type": "execute_result"
    }
   ],
   "source": [
    "# Preview categorical datatypes from data\n",
    "df.select_dtypes('category').columns.tolist()"
   ]
  },
  {
   "cell_type": "code",
   "execution_count": 52,
   "metadata": {
    "scrolled": false
   },
   "outputs": [
    {
     "data": {
      "text/html": [
       "<div>\n",
       "<style scoped>\n",
       "    .dataframe tbody tr th:only-of-type {\n",
       "        vertical-align: middle;\n",
       "    }\n",
       "\n",
       "    .dataframe tbody tr th {\n",
       "        vertical-align: top;\n",
       "    }\n",
       "\n",
       "    .dataframe thead th {\n",
       "        text-align: right;\n",
       "    }\n",
       "</style>\n",
       "<table border=\"1\" class=\"dataframe\">\n",
       "  <thead>\n",
       "    <tr style=\"text-align: right;\">\n",
       "      <th></th>\n",
       "      <th>Store_2</th>\n",
       "      <th>Store_3</th>\n",
       "      <th>Store_4</th>\n",
       "      <th>Store_5</th>\n",
       "      <th>Store_6</th>\n",
       "      <th>Store_7</th>\n",
       "      <th>Store_8</th>\n",
       "      <th>Store_9</th>\n",
       "      <th>Store_10</th>\n",
       "      <th>Store_11</th>\n",
       "      <th>...</th>\n",
       "      <th>Dept_92</th>\n",
       "      <th>Dept_93</th>\n",
       "      <th>Dept_94</th>\n",
       "      <th>Dept_95</th>\n",
       "      <th>Dept_96</th>\n",
       "      <th>Dept_97</th>\n",
       "      <th>Dept_98</th>\n",
       "      <th>Dept_99</th>\n",
       "      <th>Type_B</th>\n",
       "      <th>Type_C</th>\n",
       "    </tr>\n",
       "  </thead>\n",
       "  <tbody>\n",
       "    <tr>\n",
       "      <th>0</th>\n",
       "      <td>0</td>\n",
       "      <td>0</td>\n",
       "      <td>0</td>\n",
       "      <td>0</td>\n",
       "      <td>0</td>\n",
       "      <td>0</td>\n",
       "      <td>0</td>\n",
       "      <td>0</td>\n",
       "      <td>0</td>\n",
       "      <td>0</td>\n",
       "      <td>...</td>\n",
       "      <td>0</td>\n",
       "      <td>0</td>\n",
       "      <td>0</td>\n",
       "      <td>0</td>\n",
       "      <td>0</td>\n",
       "      <td>0</td>\n",
       "      <td>0</td>\n",
       "      <td>0</td>\n",
       "      <td>0</td>\n",
       "      <td>0</td>\n",
       "    </tr>\n",
       "    <tr>\n",
       "      <th>1</th>\n",
       "      <td>0</td>\n",
       "      <td>0</td>\n",
       "      <td>0</td>\n",
       "      <td>0</td>\n",
       "      <td>0</td>\n",
       "      <td>0</td>\n",
       "      <td>0</td>\n",
       "      <td>0</td>\n",
       "      <td>0</td>\n",
       "      <td>0</td>\n",
       "      <td>...</td>\n",
       "      <td>0</td>\n",
       "      <td>0</td>\n",
       "      <td>0</td>\n",
       "      <td>0</td>\n",
       "      <td>0</td>\n",
       "      <td>0</td>\n",
       "      <td>0</td>\n",
       "      <td>0</td>\n",
       "      <td>0</td>\n",
       "      <td>0</td>\n",
       "    </tr>\n",
       "    <tr>\n",
       "      <th>2</th>\n",
       "      <td>0</td>\n",
       "      <td>0</td>\n",
       "      <td>0</td>\n",
       "      <td>0</td>\n",
       "      <td>0</td>\n",
       "      <td>0</td>\n",
       "      <td>0</td>\n",
       "      <td>0</td>\n",
       "      <td>0</td>\n",
       "      <td>0</td>\n",
       "      <td>...</td>\n",
       "      <td>0</td>\n",
       "      <td>0</td>\n",
       "      <td>0</td>\n",
       "      <td>0</td>\n",
       "      <td>0</td>\n",
       "      <td>0</td>\n",
       "      <td>0</td>\n",
       "      <td>0</td>\n",
       "      <td>0</td>\n",
       "      <td>0</td>\n",
       "    </tr>\n",
       "    <tr>\n",
       "      <th>3</th>\n",
       "      <td>0</td>\n",
       "      <td>0</td>\n",
       "      <td>0</td>\n",
       "      <td>0</td>\n",
       "      <td>0</td>\n",
       "      <td>0</td>\n",
       "      <td>0</td>\n",
       "      <td>0</td>\n",
       "      <td>0</td>\n",
       "      <td>0</td>\n",
       "      <td>...</td>\n",
       "      <td>0</td>\n",
       "      <td>0</td>\n",
       "      <td>0</td>\n",
       "      <td>0</td>\n",
       "      <td>0</td>\n",
       "      <td>0</td>\n",
       "      <td>0</td>\n",
       "      <td>0</td>\n",
       "      <td>0</td>\n",
       "      <td>0</td>\n",
       "    </tr>\n",
       "    <tr>\n",
       "      <th>4</th>\n",
       "      <td>0</td>\n",
       "      <td>0</td>\n",
       "      <td>0</td>\n",
       "      <td>0</td>\n",
       "      <td>0</td>\n",
       "      <td>0</td>\n",
       "      <td>0</td>\n",
       "      <td>0</td>\n",
       "      <td>0</td>\n",
       "      <td>0</td>\n",
       "      <td>...</td>\n",
       "      <td>0</td>\n",
       "      <td>0</td>\n",
       "      <td>0</td>\n",
       "      <td>0</td>\n",
       "      <td>0</td>\n",
       "      <td>0</td>\n",
       "      <td>0</td>\n",
       "      <td>0</td>\n",
       "      <td>0</td>\n",
       "      <td>0</td>\n",
       "    </tr>\n",
       "  </tbody>\n",
       "</table>\n",
       "<p>5 rows × 126 columns</p>\n",
       "</div>"
      ],
      "text/plain": [
       "   Store_2  Store_3  Store_4  Store_5  Store_6  Store_7  Store_8  Store_9  \\\n",
       "0        0        0        0        0        0        0        0        0   \n",
       "1        0        0        0        0        0        0        0        0   \n",
       "2        0        0        0        0        0        0        0        0   \n",
       "3        0        0        0        0        0        0        0        0   \n",
       "4        0        0        0        0        0        0        0        0   \n",
       "\n",
       "   Store_10  Store_11  ...  Dept_92  Dept_93  Dept_94  Dept_95  Dept_96  \\\n",
       "0         0         0  ...        0        0        0        0        0   \n",
       "1         0         0  ...        0        0        0        0        0   \n",
       "2         0         0  ...        0        0        0        0        0   \n",
       "3         0         0  ...        0        0        0        0        0   \n",
       "4         0         0  ...        0        0        0        0        0   \n",
       "\n",
       "   Dept_97  Dept_98  Dept_99  Type_B  Type_C  \n",
       "0        0        0        0       0       0  \n",
       "1        0        0        0       0       0  \n",
       "2        0        0        0       0       0  \n",
       "3        0        0        0       0       0  \n",
       "4        0        0        0       0       0  \n",
       "\n",
       "[5 rows x 126 columns]"
      ]
     },
     "execution_count": 52,
     "metadata": {},
     "output_type": "execute_result"
    }
   ],
   "source": [
    "# Encode features with pd.get_dummies()\n",
    "prep_category = pd.get_dummies(df.select_dtypes('category'), drop_first=True)\n",
    "prep_category.head()"
   ]
  },
  {
   "cell_type": "code",
   "execution_count": 53,
   "metadata": {},
   "outputs": [],
   "source": [
    "# Getting dummies for each of the stores (45 unique) and each of the departments (81 unique) created many new variables,\n",
    "# I'm worred this may have made my data \"sparse\""
   ]
  },
  {
   "cell_type": "markdown",
   "metadata": {},
   "source": [
    "### Convert Booleans to 0/1"
   ]
  },
  {
   "cell_type": "code",
   "execution_count": 54,
   "metadata": {},
   "outputs": [
    {
     "data": {
      "text/plain": [
       "['IsHoliday']"
      ]
     },
     "execution_count": 54,
     "metadata": {},
     "output_type": "execute_result"
    }
   ],
   "source": [
    "df.select_dtypes('bool').columns.tolist()"
   ]
  },
  {
   "cell_type": "code",
   "execution_count": 55,
   "metadata": {},
   "outputs": [
    {
     "data": {
      "text/plain": [
       "[0, 1]"
      ]
     },
     "execution_count": 55,
     "metadata": {},
     "output_type": "execute_result"
    }
   ],
   "source": [
    "# Convert boolean datatype to 0/1\n",
    "prep_bool = pd.DataFrame(df['IsHoliday'].astype(int))\n",
    "\n",
    "# View new unique values\n",
    "prep_bool['IsHoliday'].unique().tolist()"
   ]
  },
  {
   "cell_type": "markdown",
   "metadata": {},
   "source": [
    "### Convert datetime to date features"
   ]
  },
  {
   "cell_type": "markdown",
   "metadata": {},
   "source": [
    "I'm going to use the previously created \"date_df\" I used in EDA to store the numeric date features I'll create"
   ]
  },
  {
   "cell_type": "code",
   "execution_count": 56,
   "metadata": {},
   "outputs": [],
   "source": [
    "# Drop Weekly_Sales so that the df is only relveant date features\n",
    "date_df.drop('Weekly_Sales', axis=1, inplace=True)"
   ]
  },
  {
   "cell_type": "code",
   "execution_count": 57,
   "metadata": {},
   "outputs": [
    {
     "data": {
      "text/html": [
       "<div>\n",
       "<style scoped>\n",
       "    .dataframe tbody tr th:only-of-type {\n",
       "        vertical-align: middle;\n",
       "    }\n",
       "\n",
       "    .dataframe tbody tr th {\n",
       "        vertical-align: top;\n",
       "    }\n",
       "\n",
       "    .dataframe thead th {\n",
       "        text-align: right;\n",
       "    }\n",
       "</style>\n",
       "<table border=\"1\" class=\"dataframe\">\n",
       "  <thead>\n",
       "    <tr style=\"text-align: right;\">\n",
       "      <th></th>\n",
       "      <th>Year</th>\n",
       "      <th>Week</th>\n",
       "      <th>IsHoliday</th>\n",
       "    </tr>\n",
       "  </thead>\n",
       "  <tbody>\n",
       "    <tr>\n",
       "      <th>0</th>\n",
       "      <td>2010</td>\n",
       "      <td>5</td>\n",
       "      <td>False</td>\n",
       "    </tr>\n",
       "    <tr>\n",
       "      <th>1</th>\n",
       "      <td>2010</td>\n",
       "      <td>5</td>\n",
       "      <td>False</td>\n",
       "    </tr>\n",
       "    <tr>\n",
       "      <th>2</th>\n",
       "      <td>2010</td>\n",
       "      <td>5</td>\n",
       "      <td>False</td>\n",
       "    </tr>\n",
       "    <tr>\n",
       "      <th>3</th>\n",
       "      <td>2010</td>\n",
       "      <td>5</td>\n",
       "      <td>False</td>\n",
       "    </tr>\n",
       "    <tr>\n",
       "      <th>4</th>\n",
       "      <td>2010</td>\n",
       "      <td>5</td>\n",
       "      <td>False</td>\n",
       "    </tr>\n",
       "  </tbody>\n",
       "</table>\n",
       "</div>"
      ],
      "text/plain": [
       "   Year  Week  IsHoliday\n",
       "0  2010     5      False\n",
       "1  2010     5      False\n",
       "2  2010     5      False\n",
       "3  2010     5      False\n",
       "4  2010     5      False"
      ]
     },
     "execution_count": 57,
     "metadata": {},
     "output_type": "execute_result"
    }
   ],
   "source": [
    "date_df.head()"
   ]
  },
  {
   "cell_type": "code",
   "execution_count": 58,
   "metadata": {},
   "outputs": [],
   "source": [
    "# Add a month feature\n",
    "date_df['Month'] = df['Date'].dt.month"
   ]
  },
  {
   "cell_type": "markdown",
   "metadata": {},
   "source": [
    "Next I'll create a holidays dataframe for \"is_specific_holiday\" features"
   ]
  },
  {
   "cell_type": "code",
   "execution_count": 59,
   "metadata": {
    "scrolled": false
   },
   "outputs": [
    {
     "data": {
      "text/html": [
       "<div>\n",
       "<style scoped>\n",
       "    .dataframe tbody tr th:only-of-type {\n",
       "        vertical-align: middle;\n",
       "    }\n",
       "\n",
       "    .dataframe tbody tr th {\n",
       "        vertical-align: top;\n",
       "    }\n",
       "\n",
       "    .dataframe thead th {\n",
       "        text-align: right;\n",
       "    }\n",
       "</style>\n",
       "<table border=\"1\" class=\"dataframe\">\n",
       "  <thead>\n",
       "    <tr style=\"text-align: right;\">\n",
       "      <th></th>\n",
       "      <th>Super_Bowl</th>\n",
       "      <th>Labor_Day</th>\n",
       "      <th>Thanksgiving</th>\n",
       "      <th>Christmas</th>\n",
       "    </tr>\n",
       "  </thead>\n",
       "  <tbody>\n",
       "    <tr>\n",
       "      <th>0</th>\n",
       "      <td>2010-02-12</td>\n",
       "      <td>2010-09-10</td>\n",
       "      <td>2010-11-26</td>\n",
       "      <td>2010-12-31</td>\n",
       "    </tr>\n",
       "    <tr>\n",
       "      <th>1</th>\n",
       "      <td>2011-02-11</td>\n",
       "      <td>2011-09-09</td>\n",
       "      <td>2011-11-25</td>\n",
       "      <td>2011-12-30</td>\n",
       "    </tr>\n",
       "    <tr>\n",
       "      <th>2</th>\n",
       "      <td>2012-02-10</td>\n",
       "      <td>2012-09-07</td>\n",
       "      <td>2012-11-23</td>\n",
       "      <td>2012-12-28</td>\n",
       "    </tr>\n",
       "    <tr>\n",
       "      <th>3</th>\n",
       "      <td>2013-02-08</td>\n",
       "      <td>2013-09-06</td>\n",
       "      <td>2013-11-29</td>\n",
       "      <td>2013-12-27</td>\n",
       "    </tr>\n",
       "  </tbody>\n",
       "</table>\n",
       "</div>"
      ],
      "text/plain": [
       "  Super_Bowl  Labor_Day Thanksgiving  Christmas\n",
       "0 2010-02-12 2010-09-10   2010-11-26 2010-12-31\n",
       "1 2011-02-11 2011-09-09   2011-11-25 2011-12-30\n",
       "2 2012-02-10 2012-09-07   2012-11-23 2012-12-28\n",
       "3 2013-02-08 2013-09-06   2013-11-29 2013-12-27"
      ]
     },
     "execution_count": 59,
     "metadata": {},
     "output_type": "execute_result"
    }
   ],
   "source": [
    "holidays_dict = {\n",
    "    'Super_Bowl': ['12-Feb-10', '11-Feb-11', '10-Feb-12', '8-Feb-13'],\n",
    "    'Labor_Day': ['10-Sep-10', '9-Sep-11', '7-Sep-12', '6-Sep-13'],\n",
    "    'Thanksgiving': ['26-Nov-10', '25-Nov-11', '23-Nov-12', '29-Nov-13'],\n",
    "    'Christmas': ['31-Dec-10', '30-Dec-11', '28-Dec-12', '27-Dec-13']\n",
    "}\n",
    "\n",
    "holidays_df = pd.DataFrame(holidays_dict, dtype='datetime64[ns]')\n",
    "holidays_df"
   ]
  },
  {
   "cell_type": "code",
   "execution_count": 60,
   "metadata": {},
   "outputs": [],
   "source": [
    "# Create new holiday features and encode them as 0 for \"given date is [given holiday]\" or 1 for \"given date is not [given holiday]\"\n",
    "date_df['Super_Bowl'] = df['Date'].isin(holidays_df['Super_Bowl']).astype(int)\n",
    "date_df['Labor_Day'] = df['Date'].isin(holidays_df['Labor_Day']).astype(int)\n",
    "date_df['Thanksgiving'] = df['Date'].isin(holidays_df['Thanksgiving']).astype(int)\n",
    "date_df['Christmas'] = df['Date'].isin(holidays_df['Christmas']).astype(int)"
   ]
  },
  {
   "cell_type": "code",
   "execution_count": 61,
   "metadata": {},
   "outputs": [
    {
     "data": {
      "text/html": [
       "<div>\n",
       "<style scoped>\n",
       "    .dataframe tbody tr th:only-of-type {\n",
       "        vertical-align: middle;\n",
       "    }\n",
       "\n",
       "    .dataframe tbody tr th {\n",
       "        vertical-align: top;\n",
       "    }\n",
       "\n",
       "    .dataframe thead th {\n",
       "        text-align: right;\n",
       "    }\n",
       "</style>\n",
       "<table border=\"1\" class=\"dataframe\">\n",
       "  <thead>\n",
       "    <tr style=\"text-align: right;\">\n",
       "      <th></th>\n",
       "      <th>Super_Bowl</th>\n",
       "      <th>Labor_Day</th>\n",
       "      <th>Thanksgiving</th>\n",
       "      <th>Christmas</th>\n",
       "    </tr>\n",
       "  </thead>\n",
       "  <tbody>\n",
       "    <tr>\n",
       "      <th>0</th>\n",
       "      <td>412675</td>\n",
       "      <td>412709</td>\n",
       "      <td>415611</td>\n",
       "      <td>415624</td>\n",
       "    </tr>\n",
       "    <tr>\n",
       "      <th>1</th>\n",
       "      <td>8895</td>\n",
       "      <td>8861</td>\n",
       "      <td>5959</td>\n",
       "      <td>5946</td>\n",
       "    </tr>\n",
       "  </tbody>\n",
       "</table>\n",
       "</div>"
      ],
      "text/plain": [
       "   Super_Bowl  Labor_Day  Thanksgiving  Christmas\n",
       "0      412675     412709        415611     415624\n",
       "1        8895       8861          5959       5946"
      ]
     },
     "execution_count": 61,
     "metadata": {},
     "output_type": "execute_result"
    }
   ],
   "source": [
    "# Count of \"is not [given holiday]\" (0) and \"is [given holiday]\" (1)\n",
    "pd.DataFrame({col:date_df[col].value_counts() for col in holidays_df.columns.tolist()})"
   ]
  },
  {
   "cell_type": "code",
   "execution_count": 62,
   "metadata": {},
   "outputs": [],
   "source": [
    "# Reorder the features in date_df\n",
    "prep_date = date_df[['Week', 'Month', 'Year','Super_Bowl', 'Labor_Day', 'Thanksgiving',\n",
    "       'Christmas']]"
   ]
  },
  {
   "cell_type": "markdown",
   "metadata": {},
   "source": [
    "### Create a dataframe for unchanged data"
   ]
  },
  {
   "cell_type": "code",
   "execution_count": 63,
   "metadata": {},
   "outputs": [],
   "source": [
    "# I'm running with the assumption that I don't need to encode (i.e. pd.get_dummies()) these features\n",
    "prep_unchanged = df[['Store','Dept']]"
   ]
  },
  {
   "cell_type": "markdown",
   "metadata": {},
   "source": [
    "### Join the Preprocessed Data"
   ]
  },
  {
   "cell_type": "code",
   "execution_count": 64,
   "metadata": {
    "scrolled": true
   },
   "outputs": [
    {
     "name": "stdout",
     "output_type": "stream",
     "text": [
      "The column count of prep_numeric is: 10\n",
      "The column count of prep_category is: 126\n",
      "The column count of prep_bool is: 1\n",
      "The column count of prep_date is: 7\n",
      "\n",
      "So the total column count should be: 144\n"
     ]
    }
   ],
   "source": [
    "print(f'The column count of prep_numeric is: {prep_numeric.shape[1]}')\n",
    "print(f'The column count of prep_category is: {prep_category.shape[1]}')\n",
    "print(f'The column count of prep_bool is: {prep_bool.shape[1]}')\n",
    "print(f'The column count of prep_date is: {prep_date.shape[1]}\\n')\n",
    "\n",
    "print(f'So the total column count should be: {prep_numeric.shape[1] + prep_category.shape[1] + prep_bool.shape[1] + prep_date.shape[1]}')"
   ]
  },
  {
   "cell_type": "code",
   "execution_count": 65,
   "metadata": {
    "scrolled": true
   },
   "outputs": [
    {
     "data": {
      "text/html": [
       "<div>\n",
       "<style scoped>\n",
       "    .dataframe tbody tr th:only-of-type {\n",
       "        vertical-align: middle;\n",
       "    }\n",
       "\n",
       "    .dataframe tbody tr th {\n",
       "        vertical-align: top;\n",
       "    }\n",
       "\n",
       "    .dataframe thead th {\n",
       "        text-align: right;\n",
       "    }\n",
       "</style>\n",
       "<table border=\"1\" class=\"dataframe\">\n",
       "  <thead>\n",
       "    <tr style=\"text-align: right;\">\n",
       "      <th></th>\n",
       "      <th>IsHoliday</th>\n",
       "      <th>Weekly_Sales</th>\n",
       "      <th>Temperature</th>\n",
       "      <th>Fuel_Price</th>\n",
       "      <th>MarkDown1</th>\n",
       "      <th>MarkDown2</th>\n",
       "      <th>MarkDown3</th>\n",
       "      <th>MarkDown4</th>\n",
       "      <th>MarkDown5</th>\n",
       "      <th>CPI</th>\n",
       "      <th>...</th>\n",
       "      <th>Dept_99</th>\n",
       "      <th>Type_B</th>\n",
       "      <th>Type_C</th>\n",
       "      <th>Week</th>\n",
       "      <th>Month</th>\n",
       "      <th>Year</th>\n",
       "      <th>Super_Bowl</th>\n",
       "      <th>Labor_Day</th>\n",
       "      <th>Thanksgiving</th>\n",
       "      <th>Christmas</th>\n",
       "    </tr>\n",
       "  </thead>\n",
       "  <tbody>\n",
       "    <tr>\n",
       "      <th>0</th>\n",
       "      <td>0</td>\n",
       "      <td>0.393782</td>\n",
       "      <td>-0.963798</td>\n",
       "      <td>-1.720834</td>\n",
       "      <td>-0.427924</td>\n",
       "      <td>-0.173047</td>\n",
       "      <td>-0.084636</td>\n",
       "      <td>-0.278084</td>\n",
       "      <td>-0.39515</td>\n",
       "      <td>1.018774</td>\n",
       "      <td>...</td>\n",
       "      <td>0</td>\n",
       "      <td>0</td>\n",
       "      <td>0</td>\n",
       "      <td>5</td>\n",
       "      <td>2</td>\n",
       "      <td>2010</td>\n",
       "      <td>0</td>\n",
       "      <td>0</td>\n",
       "      <td>0</td>\n",
       "      <td>0</td>\n",
       "    </tr>\n",
       "    <tr>\n",
       "      <th>1</th>\n",
       "      <td>0</td>\n",
       "      <td>1.524538</td>\n",
       "      <td>-0.963798</td>\n",
       "      <td>-1.720834</td>\n",
       "      <td>-0.427924</td>\n",
       "      <td>-0.173047</td>\n",
       "      <td>-0.084636</td>\n",
       "      <td>-0.278084</td>\n",
       "      <td>-0.39515</td>\n",
       "      <td>1.018774</td>\n",
       "      <td>...</td>\n",
       "      <td>0</td>\n",
       "      <td>0</td>\n",
       "      <td>0</td>\n",
       "      <td>5</td>\n",
       "      <td>2</td>\n",
       "      <td>2010</td>\n",
       "      <td>0</td>\n",
       "      <td>0</td>\n",
       "      <td>0</td>\n",
       "      <td>0</td>\n",
       "    </tr>\n",
       "    <tr>\n",
       "      <th>2</th>\n",
       "      <td>0</td>\n",
       "      <td>-0.098680</td>\n",
       "      <td>-0.963798</td>\n",
       "      <td>-1.720834</td>\n",
       "      <td>-0.427924</td>\n",
       "      <td>-0.173047</td>\n",
       "      <td>-0.084636</td>\n",
       "      <td>-0.278084</td>\n",
       "      <td>-0.39515</td>\n",
       "      <td>1.018774</td>\n",
       "      <td>...</td>\n",
       "      <td>0</td>\n",
       "      <td>0</td>\n",
       "      <td>0</td>\n",
       "      <td>5</td>\n",
       "      <td>2</td>\n",
       "      <td>2010</td>\n",
       "      <td>0</td>\n",
       "      <td>0</td>\n",
       "      <td>0</td>\n",
       "      <td>0</td>\n",
       "    </tr>\n",
       "    <tr>\n",
       "      <th>3</th>\n",
       "      <td>0</td>\n",
       "      <td>1.055551</td>\n",
       "      <td>-0.963798</td>\n",
       "      <td>-1.720834</td>\n",
       "      <td>-0.427924</td>\n",
       "      <td>-0.173047</td>\n",
       "      <td>-0.084636</td>\n",
       "      <td>-0.278084</td>\n",
       "      <td>-0.39515</td>\n",
       "      <td>1.018774</td>\n",
       "      <td>...</td>\n",
       "      <td>0</td>\n",
       "      <td>0</td>\n",
       "      <td>0</td>\n",
       "      <td>5</td>\n",
       "      <td>2</td>\n",
       "      <td>2010</td>\n",
       "      <td>0</td>\n",
       "      <td>0</td>\n",
       "      <td>0</td>\n",
       "      <td>0</td>\n",
       "    </tr>\n",
       "    <tr>\n",
       "      <th>4</th>\n",
       "      <td>0</td>\n",
       "      <td>0.715425</td>\n",
       "      <td>-0.963798</td>\n",
       "      <td>-1.720834</td>\n",
       "      <td>-0.427924</td>\n",
       "      <td>-0.173047</td>\n",
       "      <td>-0.084636</td>\n",
       "      <td>-0.278084</td>\n",
       "      <td>-0.39515</td>\n",
       "      <td>1.018774</td>\n",
       "      <td>...</td>\n",
       "      <td>0</td>\n",
       "      <td>0</td>\n",
       "      <td>0</td>\n",
       "      <td>5</td>\n",
       "      <td>2</td>\n",
       "      <td>2010</td>\n",
       "      <td>0</td>\n",
       "      <td>0</td>\n",
       "      <td>0</td>\n",
       "      <td>0</td>\n",
       "    </tr>\n",
       "  </tbody>\n",
       "</table>\n",
       "<p>5 rows × 144 columns</p>\n",
       "</div>"
      ],
      "text/plain": [
       "   IsHoliday  Weekly_Sales  Temperature  Fuel_Price  MarkDown1  MarkDown2  \\\n",
       "0          0      0.393782    -0.963798   -1.720834  -0.427924  -0.173047   \n",
       "1          0      1.524538    -0.963798   -1.720834  -0.427924  -0.173047   \n",
       "2          0     -0.098680    -0.963798   -1.720834  -0.427924  -0.173047   \n",
       "3          0      1.055551    -0.963798   -1.720834  -0.427924  -0.173047   \n",
       "4          0      0.715425    -0.963798   -1.720834  -0.427924  -0.173047   \n",
       "\n",
       "   MarkDown3  MarkDown4  MarkDown5       CPI  ...  Dept_99  Type_B  Type_C  \\\n",
       "0  -0.084636  -0.278084   -0.39515  1.018774  ...        0       0       0   \n",
       "1  -0.084636  -0.278084   -0.39515  1.018774  ...        0       0       0   \n",
       "2  -0.084636  -0.278084   -0.39515  1.018774  ...        0       0       0   \n",
       "3  -0.084636  -0.278084   -0.39515  1.018774  ...        0       0       0   \n",
       "4  -0.084636  -0.278084   -0.39515  1.018774  ...        0       0       0   \n",
       "\n",
       "   Week  Month  Year  Super_Bowl  Labor_Day  Thanksgiving  Christmas  \n",
       "0     5      2  2010           0          0             0          0  \n",
       "1     5      2  2010           0          0             0          0  \n",
       "2     5      2  2010           0          0             0          0  \n",
       "3     5      2  2010           0          0             0          0  \n",
       "4     5      2  2010           0          0             0          0  \n",
       "\n",
       "[5 rows x 144 columns]"
      ]
     },
     "execution_count": 65,
     "metadata": {},
     "output_type": "execute_result"
    }
   ],
   "source": [
    "# Join the prepped data together\n",
    "prep_df = prep_bool.join(prep_numeric).join(prep_category).join(prep_date)\n",
    "\n",
    "# Preview prep_df\n",
    "prep_df.head()"
   ]
  },
  {
   "cell_type": "code",
   "execution_count": 66,
   "metadata": {},
   "outputs": [
    {
     "data": {
      "text/plain": [
       "0"
      ]
     },
     "execution_count": 66,
     "metadata": {},
     "output_type": "execute_result"
    }
   ],
   "source": [
    "# Check if any column has null-values\n",
    "# 0 means no columns have null(s), 1 means a column has null(s)\n",
    "prep_df.isna().any().sum()"
   ]
  },
  {
   "cell_type": "code",
   "execution_count": 67,
   "metadata": {},
   "outputs": [
    {
     "name": "stdout",
     "output_type": "stream",
     "text": [
      "<class 'pandas.core.frame.DataFrame'>\n",
      "Int64Index: 421570 entries, 0 to 421569\n",
      "Columns: 144 entries, IsHoliday to Christmas\n",
      "dtypes: UInt32(2), float64(10), int32(5), int64(1), uint8(126)\n",
      "memory usage: 121.3 MB\n"
     ]
    }
   ],
   "source": [
    "prep_df.info()"
   ]
  },
  {
   "cell_type": "markdown",
   "metadata": {},
   "source": [
    "<a id='Split_Data'></a>\n",
    "## Split Training and Testing Data"
   ]
  },
  {
   "cell_type": "markdown",
   "metadata": {},
   "source": [
    "### Import Packages"
   ]
  },
  {
   "cell_type": "code",
   "execution_count": 68,
   "metadata": {},
   "outputs": [],
   "source": [
    "from sklearn.model_selection import train_test_split"
   ]
  },
  {
   "cell_type": "markdown",
   "metadata": {},
   "source": [
    "### Split Data"
   ]
  },
  {
   "cell_type": "code",
   "execution_count": 69,
   "metadata": {},
   "outputs": [],
   "source": [
    "# Separate predictor variables from the target variable as X and y\n",
    "X = prep_df.drop('Weekly_Sales', axis=1)\n",
    "y = prep_df['Weekly_Sales']\n",
    "\n",
    "# Split the data with 75%/25% train/test ratio\n",
    "X_train, X_test, y_train, y_test = train_test_split(X, y, test_size=0.25, random_state=0)"
   ]
  },
  {
   "cell_type": "markdown",
   "metadata": {},
   "source": [
    "### Double-Check the Split"
   ]
  },
  {
   "cell_type": "code",
   "execution_count": 70,
   "metadata": {},
   "outputs": [
    {
     "name": "stdout",
     "output_type": "stream",
     "text": [
      "(316177, 143)\n",
      "(105393, 143)\n",
      "(316177,)\n",
      "(105393,)\n"
     ]
    }
   ],
   "source": [
    "# Let's check the shape of the split data\n",
    "print(X_train.shape)\n",
    "print(X_test.shape)\n",
    "print(y_train.shape)\n",
    "print(y_test.shape)"
   ]
  },
  {
   "cell_type": "code",
   "execution_count": 71,
   "metadata": {},
   "outputs": [
    {
     "data": {
      "text/html": [
       "<div>\n",
       "<style scoped>\n",
       "    .dataframe tbody tr th:only-of-type {\n",
       "        vertical-align: middle;\n",
       "    }\n",
       "\n",
       "    .dataframe tbody tr th {\n",
       "        vertical-align: top;\n",
       "    }\n",
       "\n",
       "    .dataframe thead th {\n",
       "        text-align: right;\n",
       "    }\n",
       "</style>\n",
       "<table border=\"1\" class=\"dataframe\">\n",
       "  <thead>\n",
       "    <tr style=\"text-align: right;\">\n",
       "      <th></th>\n",
       "      <th>IsHoliday</th>\n",
       "      <th>Temperature</th>\n",
       "      <th>Fuel_Price</th>\n",
       "      <th>MarkDown1</th>\n",
       "      <th>MarkDown2</th>\n",
       "      <th>MarkDown3</th>\n",
       "      <th>MarkDown4</th>\n",
       "      <th>MarkDown5</th>\n",
       "      <th>CPI</th>\n",
       "      <th>Unemployment</th>\n",
       "      <th>...</th>\n",
       "      <th>Dept_99</th>\n",
       "      <th>Type_B</th>\n",
       "      <th>Type_C</th>\n",
       "      <th>Week</th>\n",
       "      <th>Month</th>\n",
       "      <th>Year</th>\n",
       "      <th>Super_Bowl</th>\n",
       "      <th>Labor_Day</th>\n",
       "      <th>Thanksgiving</th>\n",
       "      <th>Christmas</th>\n",
       "    </tr>\n",
       "  </thead>\n",
       "  <tbody>\n",
       "    <tr>\n",
       "      <th>140387</th>\n",
       "      <td>0</td>\n",
       "      <td>-0.116548</td>\n",
       "      <td>-1.123251</td>\n",
       "      <td>-0.427924</td>\n",
       "      <td>-0.173047</td>\n",
       "      <td>-0.084636</td>\n",
       "      <td>-0.278084</td>\n",
       "      <td>-0.395150</td>\n",
       "      <td>-0.981502</td>\n",
       "      <td>0.074444</td>\n",
       "      <td>...</td>\n",
       "      <td>0</td>\n",
       "      <td>1</td>\n",
       "      <td>0</td>\n",
       "      <td>37</td>\n",
       "      <td>9</td>\n",
       "      <td>2010</td>\n",
       "      <td>0</td>\n",
       "      <td>0</td>\n",
       "      <td>0</td>\n",
       "      <td>0</td>\n",
       "    </tr>\n",
       "    <tr>\n",
       "      <th>105652</th>\n",
       "      <td>0</td>\n",
       "      <td>0.383238</td>\n",
       "      <td>0.929030</td>\n",
       "      <td>0.787989</td>\n",
       "      <td>-0.114634</td>\n",
       "      <td>-0.084275</td>\n",
       "      <td>-0.134802</td>\n",
       "      <td>0.457612</td>\n",
       "      <td>1.368489</td>\n",
       "      <td>-0.604998</td>\n",
       "      <td>...</td>\n",
       "      <td>0</td>\n",
       "      <td>0</td>\n",
       "      <td>0</td>\n",
       "      <td>12</td>\n",
       "      <td>3</td>\n",
       "      <td>2012</td>\n",
       "      <td>0</td>\n",
       "      <td>0</td>\n",
       "      <td>0</td>\n",
       "      <td>0</td>\n",
       "    </tr>\n",
       "    <tr>\n",
       "      <th>73498</th>\n",
       "      <td>0</td>\n",
       "      <td>0.707394</td>\n",
       "      <td>0.926850</td>\n",
       "      <td>-0.427924</td>\n",
       "      <td>-0.173047</td>\n",
       "      <td>-0.084636</td>\n",
       "      <td>-0.278084</td>\n",
       "      <td>-0.395150</td>\n",
       "      <td>1.218907</td>\n",
       "      <td>-0.892660</td>\n",
       "      <td>...</td>\n",
       "      <td>0</td>\n",
       "      <td>0</td>\n",
       "      <td>0</td>\n",
       "      <td>21</td>\n",
       "      <td>5</td>\n",
       "      <td>2011</td>\n",
       "      <td>0</td>\n",
       "      <td>0</td>\n",
       "      <td>0</td>\n",
       "      <td>0</td>\n",
       "    </tr>\n",
       "    <tr>\n",
       "      <th>203354</th>\n",
       "      <td>0</td>\n",
       "      <td>0.626084</td>\n",
       "      <td>-0.165811</td>\n",
       "      <td>-0.427924</td>\n",
       "      <td>-0.173047</td>\n",
       "      <td>-0.084636</td>\n",
       "      <td>-0.278084</td>\n",
       "      <td>-0.395150</td>\n",
       "      <td>1.161767</td>\n",
       "      <td>-0.278694</td>\n",
       "      <td>...</td>\n",
       "      <td>0</td>\n",
       "      <td>1</td>\n",
       "      <td>0</td>\n",
       "      <td>40</td>\n",
       "      <td>10</td>\n",
       "      <td>2011</td>\n",
       "      <td>0</td>\n",
       "      <td>0</td>\n",
       "      <td>0</td>\n",
       "      <td>0</td>\n",
       "    </tr>\n",
       "    <tr>\n",
       "      <th>329039</th>\n",
       "      <td>0</td>\n",
       "      <td>0.099195</td>\n",
       "      <td>0.706573</td>\n",
       "      <td>1.446092</td>\n",
       "      <td>-0.173047</td>\n",
       "      <td>-0.079391</td>\n",
       "      <td>0.033644</td>\n",
       "      <td>0.076151</td>\n",
       "      <td>-1.022916</td>\n",
       "      <td>0.866590</td>\n",
       "      <td>...</td>\n",
       "      <td>0</td>\n",
       "      <td>0</td>\n",
       "      <td>0</td>\n",
       "      <td>19</td>\n",
       "      <td>5</td>\n",
       "      <td>2012</td>\n",
       "      <td>0</td>\n",
       "      <td>0</td>\n",
       "      <td>0</td>\n",
       "      <td>0</td>\n",
       "    </tr>\n",
       "  </tbody>\n",
       "</table>\n",
       "<p>5 rows × 143 columns</p>\n",
       "</div>"
      ],
      "text/plain": [
       "        IsHoliday  Temperature  Fuel_Price  MarkDown1  MarkDown2  MarkDown3  \\\n",
       "140387          0    -0.116548   -1.123251  -0.427924  -0.173047  -0.084636   \n",
       "105652          0     0.383238    0.929030   0.787989  -0.114634  -0.084275   \n",
       "73498           0     0.707394    0.926850  -0.427924  -0.173047  -0.084636   \n",
       "203354          0     0.626084   -0.165811  -0.427924  -0.173047  -0.084636   \n",
       "329039          0     0.099195    0.706573   1.446092  -0.173047  -0.079391   \n",
       "\n",
       "        MarkDown4  MarkDown5       CPI  Unemployment  ...  Dept_99  Type_B  \\\n",
       "140387  -0.278084  -0.395150 -0.981502      0.074444  ...        0       1   \n",
       "105652  -0.134802   0.457612  1.368489     -0.604998  ...        0       0   \n",
       "73498   -0.278084  -0.395150  1.218907     -0.892660  ...        0       0   \n",
       "203354  -0.278084  -0.395150  1.161767     -0.278694  ...        0       1   \n",
       "329039   0.033644   0.076151 -1.022916      0.866590  ...        0       0   \n",
       "\n",
       "        Type_C  Week  Month  Year  Super_Bowl  Labor_Day  Thanksgiving  \\\n",
       "140387       0    37      9  2010           0          0             0   \n",
       "105652       0    12      3  2012           0          0             0   \n",
       "73498        0    21      5  2011           0          0             0   \n",
       "203354       0    40     10  2011           0          0             0   \n",
       "329039       0    19      5  2012           0          0             0   \n",
       "\n",
       "        Christmas  \n",
       "140387          0  \n",
       "105652          0  \n",
       "73498           0  \n",
       "203354          0  \n",
       "329039          0  \n",
       "\n",
       "[5 rows x 143 columns]"
      ]
     },
     "execution_count": 71,
     "metadata": {},
     "output_type": "execute_result"
    }
   ],
   "source": [
    "X_train.head()"
   ]
  },
  {
   "cell_type": "code",
   "execution_count": 72,
   "metadata": {
    "scrolled": true
   },
   "outputs": [
    {
     "data": {
      "text/plain": [
       "233571   -0.576624\n",
       "88992     3.398020\n",
       "367842   -0.333282\n",
       "184359    1.105857\n",
       "26175    -0.652784\n",
       "Name: Weekly_Sales, dtype: float64"
      ]
     },
     "execution_count": 72,
     "metadata": {},
     "output_type": "execute_result"
    }
   ],
   "source": [
    "y_test.head()"
   ]
  },
  {
   "cell_type": "markdown",
   "metadata": {},
   "source": [
    "<a id='Modeling'></a>\n",
    "# Modeling"
   ]
  },
  {
   "cell_type": "markdown",
   "metadata": {},
   "source": [
    "#### Create a dictionary and function to help with modeling"
   ]
  },
  {
   "cell_type": "code",
   "execution_count": 73,
   "metadata": {},
   "outputs": [],
   "source": [
    "# Create a dictionary to collect model performances\n",
    "model_performance_dict = {}"
   ]
  },
  {
   "cell_type": "code",
   "execution_count": 74,
   "metadata": {},
   "outputs": [],
   "source": [
    "import time\n",
    "from sklearn.model_selection import cross_val_score\n",
    "from sklearn.metrics import mean_absolute_error"
   ]
  },
  {
   "cell_type": "code",
   "execution_count": 75,
   "metadata": {},
   "outputs": [],
   "source": [
    "def runModelReturnPerformance(model_name, model):\n",
    "    \"\"\"Over 4 folds, fit the model to training data, score each fold with mean-absolute-error, then add elapsed-time and\n",
    "    mean of the MAE scores to the model_performance_dict, and finally print a DataFrame with the relevant metrics.\"\"\"\n",
    "    \n",
    "    start = time.time()\n",
    "    \n",
    "    cv4_score_mean = -1 * np.mean(cross_val_score(model, X_train, y_train, scoring='neg_mean_absolute_error',\\\n",
    "                                             cv=4, n_jobs=3, verbose=2))\n",
    "    \n",
    "    end = time.time()\n",
    "\n",
    "    model_performance_dict[model_name] = {'4-CV MAE Mean': cv4_score_mean, 'Elapsed Time (s)': end-start}\n",
    "    \n",
    "    return pd.DataFrame(model_performance_dict[model_name], index=[model_name])"
   ]
  },
  {
   "cell_type": "markdown",
   "metadata": {
    "cell_style": "center"
   },
   "source": [
    "<a id='Model_Experimentation'></a>\n",
    "## Model Experimentation"
   ]
  },
  {
   "cell_type": "markdown",
   "metadata": {},
   "source": [
    "### OLS Linear Regression"
   ]
  },
  {
   "cell_type": "code",
   "execution_count": 4,
   "metadata": {},
   "outputs": [],
   "source": [
    "from sklearn.linear_model import LinearRegression"
   ]
  },
  {
   "cell_type": "code",
   "execution_count": 76,
   "metadata": {},
   "outputs": [
    {
     "name": "stderr",
     "output_type": "stream",
     "text": [
      "[Parallel(n_jobs=3)]: Using backend LokyBackend with 3 concurrent workers.\n",
      "[Parallel(n_jobs=3)]: Done   2 out of   4 | elapsed:   10.1s remaining:   10.1s\n",
      "[Parallel(n_jobs=3)]: Done   4 out of   4 | elapsed:   13.0s finished\n"
     ]
    },
    {
     "data": {
      "text/html": [
       "<div>\n",
       "<style scoped>\n",
       "    .dataframe tbody tr th:only-of-type {\n",
       "        vertical-align: middle;\n",
       "    }\n",
       "\n",
       "    .dataframe tbody tr th {\n",
       "        vertical-align: top;\n",
       "    }\n",
       "\n",
       "    .dataframe thead th {\n",
       "        text-align: right;\n",
       "    }\n",
       "</style>\n",
       "<table border=\"1\" class=\"dataframe\">\n",
       "  <thead>\n",
       "    <tr style=\"text-align: right;\">\n",
       "      <th></th>\n",
       "      <th>4-CV MAE Mean</th>\n",
       "      <th>Elapsed Time (s)</th>\n",
       "    </tr>\n",
       "  </thead>\n",
       "  <tbody>\n",
       "    <tr>\n",
       "      <th>linear_reg</th>\n",
       "      <td>0.358042</td>\n",
       "      <td>13.207358</td>\n",
       "    </tr>\n",
       "  </tbody>\n",
       "</table>\n",
       "</div>"
      ],
      "text/plain": [
       "            4-CV MAE Mean  Elapsed Time (s)\n",
       "linear_reg       0.358042         13.207358"
      ]
     },
     "execution_count": 76,
     "metadata": {},
     "output_type": "execute_result"
    }
   ],
   "source": [
    "linear_reg = LinearRegression()\n",
    "\n",
    "runModelReturnPerformance('linear_reg', linear_reg)"
   ]
  },
  {
   "cell_type": "markdown",
   "metadata": {},
   "source": [
    "### Elastic-Net Regression"
   ]
  },
  {
   "cell_type": "code",
   "execution_count": 77,
   "metadata": {},
   "outputs": [],
   "source": [
    "from sklearn.linear_model import ElasticNet"
   ]
  },
  {
   "cell_type": "code",
   "execution_count": 78,
   "metadata": {},
   "outputs": [
    {
     "name": "stderr",
     "output_type": "stream",
     "text": [
      "[Parallel(n_jobs=3)]: Using backend LokyBackend with 3 concurrent workers.\n",
      "[Parallel(n_jobs=3)]: Done   2 out of   4 | elapsed:    3.5s remaining:    3.5s\n",
      "[Parallel(n_jobs=3)]: Done   4 out of   4 | elapsed:    5.7s finished\n"
     ]
    },
    {
     "data": {
      "text/html": [
       "<div>\n",
       "<style scoped>\n",
       "    .dataframe tbody tr th:only-of-type {\n",
       "        vertical-align: middle;\n",
       "    }\n",
       "\n",
       "    .dataframe tbody tr th {\n",
       "        vertical-align: top;\n",
       "    }\n",
       "\n",
       "    .dataframe thead th {\n",
       "        text-align: right;\n",
       "    }\n",
       "</style>\n",
       "<table border=\"1\" class=\"dataframe\">\n",
       "  <thead>\n",
       "    <tr style=\"text-align: right;\">\n",
       "      <th></th>\n",
       "      <th>4-CV MAE Mean</th>\n",
       "      <th>Elapsed Time (s)</th>\n",
       "    </tr>\n",
       "  </thead>\n",
       "  <tbody>\n",
       "    <tr>\n",
       "      <th>elastic_net</th>\n",
       "      <td>0.666552</td>\n",
       "      <td>5.933383</td>\n",
       "    </tr>\n",
       "  </tbody>\n",
       "</table>\n",
       "</div>"
      ],
      "text/plain": [
       "             4-CV MAE Mean  Elapsed Time (s)\n",
       "elastic_net       0.666552          5.933383"
      ]
     },
     "execution_count": 78,
     "metadata": {},
     "output_type": "execute_result"
    }
   ],
   "source": [
    "elastic_net = ElasticNet(random_state=0)\n",
    "\n",
    "runModelReturnPerformance('elastic_net', elastic_net)"
   ]
  },
  {
   "cell_type": "markdown",
   "metadata": {},
   "source": [
    "### Bayesian ARD Regression"
   ]
  },
  {
   "cell_type": "code",
   "execution_count": 79,
   "metadata": {},
   "outputs": [],
   "source": [
    "from sklearn.linear_model import ARDRegression"
   ]
  },
  {
   "cell_type": "code",
   "execution_count": 80,
   "metadata": {},
   "outputs": [
    {
     "name": "stderr",
     "output_type": "stream",
     "text": [
      "[Parallel(n_jobs=3)]: Using backend LokyBackend with 3 concurrent workers.\n",
      "[Parallel(n_jobs=3)]: Done   2 out of   4 | elapsed:   15.1s remaining:   15.1s\n",
      "[Parallel(n_jobs=3)]: Done   4 out of   4 | elapsed:   21.3s finished\n"
     ]
    },
    {
     "data": {
      "text/html": [
       "<div>\n",
       "<style scoped>\n",
       "    .dataframe tbody tr th:only-of-type {\n",
       "        vertical-align: middle;\n",
       "    }\n",
       "\n",
       "    .dataframe tbody tr th {\n",
       "        vertical-align: top;\n",
       "    }\n",
       "\n",
       "    .dataframe thead th {\n",
       "        text-align: right;\n",
       "    }\n",
       "</style>\n",
       "<table border=\"1\" class=\"dataframe\">\n",
       "  <thead>\n",
       "    <tr style=\"text-align: right;\">\n",
       "      <th></th>\n",
       "      <th>4-CV MAE Mean</th>\n",
       "      <th>Elapsed Time (s)</th>\n",
       "    </tr>\n",
       "  </thead>\n",
       "  <tbody>\n",
       "    <tr>\n",
       "      <th>ARD_reg</th>\n",
       "      <td>0.358086</td>\n",
       "      <td>21.49297</td>\n",
       "    </tr>\n",
       "  </tbody>\n",
       "</table>\n",
       "</div>"
      ],
      "text/plain": [
       "         4-CV MAE Mean  Elapsed Time (s)\n",
       "ARD_reg       0.358086          21.49297"
      ]
     },
     "execution_count": 80,
     "metadata": {},
     "output_type": "execute_result"
    }
   ],
   "source": [
    "ARD_reg = ARDRegression()\n",
    "\n",
    "runModelReturnPerformance('ARD_reg', ARD_reg)"
   ]
  },
  {
   "cell_type": "markdown",
   "metadata": {},
   "source": [
    "### Decision-Tree Regression"
   ]
  },
  {
   "cell_type": "code",
   "execution_count": 76,
   "metadata": {},
   "outputs": [],
   "source": [
    "from sklearn.tree import DecisionTreeRegressor"
   ]
  },
  {
   "cell_type": "code",
   "execution_count": 82,
   "metadata": {},
   "outputs": [
    {
     "name": "stderr",
     "output_type": "stream",
     "text": [
      "[Parallel(n_jobs=3)]: Using backend LokyBackend with 3 concurrent workers.\n",
      "[Parallel(n_jobs=3)]: Done   2 out of   4 | elapsed:   41.2s remaining:   41.2s\n",
      "[Parallel(n_jobs=3)]: Done   4 out of   4 | elapsed:   58.2s finished\n"
     ]
    },
    {
     "data": {
      "text/html": [
       "<div>\n",
       "<style scoped>\n",
       "    .dataframe tbody tr th:only-of-type {\n",
       "        vertical-align: middle;\n",
       "    }\n",
       "\n",
       "    .dataframe tbody tr th {\n",
       "        vertical-align: top;\n",
       "    }\n",
       "\n",
       "    .dataframe thead th {\n",
       "        text-align: right;\n",
       "    }\n",
       "</style>\n",
       "<table border=\"1\" class=\"dataframe\">\n",
       "  <thead>\n",
       "    <tr style=\"text-align: right;\">\n",
       "      <th></th>\n",
       "      <th>4-CV MAE Mean</th>\n",
       "      <th>Elapsed Time (s)</th>\n",
       "    </tr>\n",
       "  </thead>\n",
       "  <tbody>\n",
       "    <tr>\n",
       "      <th>tree</th>\n",
       "      <td>0.097326</td>\n",
       "      <td>58.377125</td>\n",
       "    </tr>\n",
       "  </tbody>\n",
       "</table>\n",
       "</div>"
      ],
      "text/plain": [
       "      4-CV MAE Mean  Elapsed Time (s)\n",
       "tree       0.097326         58.377125"
      ]
     },
     "execution_count": 82,
     "metadata": {},
     "output_type": "execute_result"
    }
   ],
   "source": [
    "tree = DecisionTreeRegressor(random_state=0)\n",
    "\n",
    "runModelReturnPerformance('tree', tree)"
   ]
  },
  {
   "cell_type": "markdown",
   "metadata": {},
   "source": [
    "### Random-Forest Regression"
   ]
  },
  {
   "cell_type": "code",
   "execution_count": 73,
   "metadata": {},
   "outputs": [],
   "source": [
    "from sklearn.ensemble import RandomForestRegressor"
   ]
  },
  {
   "cell_type": "code",
   "execution_count": 84,
   "metadata": {
    "scrolled": false
   },
   "outputs": [
    {
     "name": "stderr",
     "output_type": "stream",
     "text": [
      "[Parallel(n_jobs=3)]: Using backend LokyBackend with 3 concurrent workers.\n",
      "[Parallel(n_jobs=3)]: Done   2 out of   4 | elapsed: 35.0min remaining: 35.0min\n",
      "[Parallel(n_jobs=3)]: Done   4 out of   4 | elapsed: 54.9min finished\n"
     ]
    },
    {
     "data": {
      "text/html": [
       "<div>\n",
       "<style scoped>\n",
       "    .dataframe tbody tr th:only-of-type {\n",
       "        vertical-align: middle;\n",
       "    }\n",
       "\n",
       "    .dataframe tbody tr th {\n",
       "        vertical-align: top;\n",
       "    }\n",
       "\n",
       "    .dataframe thead th {\n",
       "        text-align: right;\n",
       "    }\n",
       "</style>\n",
       "<table border=\"1\" class=\"dataframe\">\n",
       "  <thead>\n",
       "    <tr style=\"text-align: right;\">\n",
       "      <th></th>\n",
       "      <th>4-CV MAE Mean</th>\n",
       "      <th>Elapsed Time (s)</th>\n",
       "    </tr>\n",
       "  </thead>\n",
       "  <tbody>\n",
       "    <tr>\n",
       "      <th>rand_forest</th>\n",
       "      <td>0.082653</td>\n",
       "      <td>3296.723834</td>\n",
       "    </tr>\n",
       "  </tbody>\n",
       "</table>\n",
       "</div>"
      ],
      "text/plain": [
       "             4-CV MAE Mean  Elapsed Time (s)\n",
       "rand_forest       0.082653       3296.723834"
      ]
     },
     "execution_count": 84,
     "metadata": {},
     "output_type": "execute_result"
    }
   ],
   "source": [
    "rand_forest = RandomForestRegressor(random_state=0, warm_start=True)\n",
    "\n",
    "runModelReturnPerformance('rand_forest', rand_forest)"
   ]
  },
  {
   "cell_type": "markdown",
   "metadata": {},
   "source": [
    "### Gradient-Boosting Regression"
   ]
  },
  {
   "cell_type": "code",
   "execution_count": 85,
   "metadata": {},
   "outputs": [],
   "source": [
    "from sklearn.ensemble import GradientBoostingRegressor"
   ]
  },
  {
   "cell_type": "code",
   "execution_count": 86,
   "metadata": {
    "scrolled": true
   },
   "outputs": [
    {
     "name": "stderr",
     "output_type": "stream",
     "text": [
      "[Parallel(n_jobs=3)]: Using backend LokyBackend with 3 concurrent workers.\n",
      "[Parallel(n_jobs=3)]: Done   2 out of   4 | elapsed:  3.9min remaining:  3.9min\n",
      "[Parallel(n_jobs=3)]: Done   4 out of   4 | elapsed:  6.0min finished\n"
     ]
    },
    {
     "data": {
      "text/html": [
       "<div>\n",
       "<style scoped>\n",
       "    .dataframe tbody tr th:only-of-type {\n",
       "        vertical-align: middle;\n",
       "    }\n",
       "\n",
       "    .dataframe tbody tr th {\n",
       "        vertical-align: top;\n",
       "    }\n",
       "\n",
       "    .dataframe thead th {\n",
       "        text-align: right;\n",
       "    }\n",
       "</style>\n",
       "<table border=\"1\" class=\"dataframe\">\n",
       "  <thead>\n",
       "    <tr style=\"text-align: right;\">\n",
       "      <th></th>\n",
       "      <th>4-CV MAE Mean</th>\n",
       "      <th>Elapsed Time (s)</th>\n",
       "    </tr>\n",
       "  </thead>\n",
       "  <tbody>\n",
       "    <tr>\n",
       "      <th>gradient_boosting_reg</th>\n",
       "      <td>0.387497</td>\n",
       "      <td>359.300219</td>\n",
       "    </tr>\n",
       "  </tbody>\n",
       "</table>\n",
       "</div>"
      ],
      "text/plain": [
       "                       4-CV MAE Mean  Elapsed Time (s)\n",
       "gradient_boosting_reg       0.387497        359.300219"
      ]
     },
     "execution_count": 86,
     "metadata": {},
     "output_type": "execute_result"
    }
   ],
   "source": [
    "gradient_boosting_reg = GradientBoostingRegressor(random_state=0)\n",
    "\n",
    "runModelReturnPerformance('gradient_boosting_reg', gradient_boosting_reg)"
   ]
  },
  {
   "cell_type": "markdown",
   "metadata": {},
   "source": [
    "<a id='Choosing_the_Best_Model(s)'></a>\n",
    "## Choosing the Best Model(s)"
   ]
  },
  {
   "cell_type": "code",
   "execution_count": 87,
   "metadata": {},
   "outputs": [
    {
     "data": {
      "text/html": [
       "<div>\n",
       "<style scoped>\n",
       "    .dataframe tbody tr th:only-of-type {\n",
       "        vertical-align: middle;\n",
       "    }\n",
       "\n",
       "    .dataframe tbody tr th {\n",
       "        vertical-align: top;\n",
       "    }\n",
       "\n",
       "    .dataframe thead th {\n",
       "        text-align: right;\n",
       "    }\n",
       "</style>\n",
       "<table border=\"1\" class=\"dataframe\">\n",
       "  <thead>\n",
       "    <tr style=\"text-align: right;\">\n",
       "      <th></th>\n",
       "      <th>4-CV MAE Mean</th>\n",
       "      <th>Elapsed Time (s)</th>\n",
       "    </tr>\n",
       "  </thead>\n",
       "  <tbody>\n",
       "    <tr>\n",
       "      <th>rand_forest</th>\n",
       "      <td>0.082653</td>\n",
       "      <td>3296.723834</td>\n",
       "    </tr>\n",
       "    <tr>\n",
       "      <th>tree</th>\n",
       "      <td>0.097326</td>\n",
       "      <td>58.377125</td>\n",
       "    </tr>\n",
       "    <tr>\n",
       "      <th>linear_reg</th>\n",
       "      <td>0.358042</td>\n",
       "      <td>13.207358</td>\n",
       "    </tr>\n",
       "    <tr>\n",
       "      <th>ARD_reg</th>\n",
       "      <td>0.358086</td>\n",
       "      <td>21.492970</td>\n",
       "    </tr>\n",
       "    <tr>\n",
       "      <th>gradient_boosting_reg</th>\n",
       "      <td>0.387497</td>\n",
       "      <td>359.300219</td>\n",
       "    </tr>\n",
       "    <tr>\n",
       "      <th>elastic_net</th>\n",
       "      <td>0.666552</td>\n",
       "      <td>5.933383</td>\n",
       "    </tr>\n",
       "  </tbody>\n",
       "</table>\n",
       "</div>"
      ],
      "text/plain": [
       "                       4-CV MAE Mean  Elapsed Time (s)\n",
       "rand_forest                 0.082653       3296.723834\n",
       "tree                        0.097326         58.377125\n",
       "linear_reg                  0.358042         13.207358\n",
       "ARD_reg                     0.358086         21.492970\n",
       "gradient_boosting_reg       0.387497        359.300219\n",
       "elastic_net                 0.666552          5.933383"
      ]
     },
     "execution_count": 87,
     "metadata": {},
     "output_type": "execute_result"
    }
   ],
   "source": [
    "model_performance_df = pd.DataFrame(model_performance_dict).T.sort_values('4-CV MAE Mean')\n",
    "model_performance_df"
   ]
  },
  {
   "cell_type": "markdown",
   "metadata": {},
   "source": [
    "Random-Forest Regression was, by the MAE metric, the best performing model with an average mean-absolute-error of 0.083.\n",
    "\n",
    "However, if training time/cost was a determining factor in model selection, then a Decision-Tree Regressor would be the best choice. The tree balanced training time with MAE and achieved a MAE of 0.0973."
   ]
  },
  {
   "cell_type": "markdown",
   "metadata": {},
   "source": [
    "### Model Choice"
   ]
  },
  {
   "cell_type": "markdown",
   "metadata": {},
   "source": [
    "<b>Choice:</b> Decision Tree and Random-Forest Regressors"
   ]
  },
  {
   "cell_type": "markdown",
   "metadata": {},
   "source": [
    "<a id='Improving_Chosen_Model(s)'></a>\n",
    "## Improving Chosen Model(s)"
   ]
  },
  {
   "cell_type": "code",
   "execution_count": 74,
   "metadata": {},
   "outputs": [],
   "source": [
    "from sklearn.model_selection import RandomizedSearchCV"
   ]
  },
  {
   "cell_type": "markdown",
   "metadata": {},
   "source": [
    "### Random-Forest Regressor"
   ]
  },
  {
   "cell_type": "code",
   "execution_count": 76,
   "metadata": {},
   "outputs": [
    {
     "name": "stdout",
     "output_type": "stream",
     "text": [
      "Fitting 4 folds for each of 12 candidates, totalling 48 fits\n"
     ]
    },
    {
     "name": "stderr",
     "output_type": "stream",
     "text": [
      "[Parallel(n_jobs=2)]: Using backend LokyBackend with 2 concurrent workers.\n",
      "[Parallel(n_jobs=2)]: Done  37 tasks      | elapsed: 337.9min\n",
      "[Parallel(n_jobs=2)]: Done  48 out of  48 | elapsed: 443.5min finished\n"
     ]
    },
    {
     "data": {
      "text/plain": [
       "RandomizedSearchCV(cv=4,\n",
       "                   estimator=RandomForestRegressor(random_state=0,\n",
       "                                                   warm_start=True),\n",
       "                   n_iter=12, n_jobs=2,\n",
       "                   param_distributions={'n_estimators': array([  0,   1,   2,   3,   4,   5,   6,   7,   8,   9,  10,  11,  12,\n",
       "        13,  14,  15,  16,  17,  18,  19,  20,  21,  22,  23,  24,  25,\n",
       "        26,  27,  28,  29,  30,  31,  32,  33,  34,  35,  36,  37,  38,\n",
       "        39,  40,  41,  42,  43,  44,  45,  46,  47,  48,  49,  50,  51,\n",
       "        52,  53,  54,  55,  56,  57,  58,  59,  60,  61,  62,  63,  64,\n",
       "        65,  66,  67,  68,  69,...,  71,  72,  73,  74,  75,  76,  77,\n",
       "        78,  79,  80,  81,  82,  83,  84,  85,  86,  87,  88,  89,  90,\n",
       "        91,  92,  93,  94,  95,  96,  97,  98,  99, 100, 101, 102, 103,\n",
       "       104, 105, 106, 107, 108, 109, 110, 111, 112, 113, 114, 115, 116,\n",
       "       117, 118, 119, 120, 121, 122, 123, 124, 125, 126, 127, 128, 129,\n",
       "       130, 131, 132, 133, 134, 135, 136, 137, 138, 139, 140, 141, 142,\n",
       "       143, 144, 145, 146, 147, 148, 149])},\n",
       "                   random_state=0, scoring='neg_mean_absolute_error',\n",
       "                   verbose=2)"
      ]
     },
     "execution_count": 76,
     "metadata": {},
     "output_type": "execute_result"
    }
   ],
   "source": [
    "rand_forest = RandomForestRegressor(random_state=0, warm_start=True)\n",
    "params = {'n_estimators': np.arange(0, 150, 1)}\n",
    "RSCV_forest = RandomizedSearchCV(rand_forest, params, n_iter=12, n_jobs=2, scoring='neg_mean_absolute_error',\n",
    "                                 cv=4, verbose=2, random_state=0)\n",
    "RSCV_forest.fit(X_train, y_train)"
   ]
  },
  {
   "cell_type": "code",
   "execution_count": 77,
   "metadata": {},
   "outputs": [
    {
     "name": "stdout",
     "output_type": "stream",
     "text": [
      "Best MAE: 0.08250221089533902\n",
      "Best Parameters: {'n_estimators': 134}\n"
     ]
    }
   ],
   "source": [
    "print(f'Best MAE: {-1 * RSCV_forest.best_score_}')\n",
    "print(f'Best Parameters: {RSCV_forest.best_params_}')"
   ]
  },
  {
   "cell_type": "markdown",
   "metadata": {},
   "source": [
    "<b>It took 422 minutes to randomized-search for the best cross-validated random-forest on my machine. Until I can run that in the cloud, I don't want to do that again!<b>"
   ]
  },
  {
   "cell_type": "markdown",
   "metadata": {},
   "source": [
    "### Decision-Tree Regressor"
   ]
  },
  {
   "cell_type": "code",
   "execution_count": 78,
   "metadata": {
    "scrolled": false
   },
   "outputs": [
    {
     "name": "stdout",
     "output_type": "stream",
     "text": [
      "Fitting 4 folds for each of 30 candidates, totalling 120 fits\n"
     ]
    },
    {
     "name": "stderr",
     "output_type": "stream",
     "text": [
      "[Parallel(n_jobs=3)]: Using backend LokyBackend with 3 concurrent workers.\n",
      "[Parallel(n_jobs=3)]: Done  35 tasks      | elapsed:  5.7min\n",
      "[Parallel(n_jobs=3)]: Done 120 out of 120 | elapsed: 18.0min finished\n"
     ]
    },
    {
     "data": {
      "text/plain": [
       "RandomizedSearchCV(cv=4, estimator=DecisionTreeRegressor(random_state=0),\n",
       "                   n_iter=30, n_jobs=3,\n",
       "                   param_distributions={'max_depth': array([  0,   1,   2,   3,   4,   5,   6,   7,   8,   9,  10,  11,  12,\n",
       "        13,  14,  15,  16,  17,  18,  19,  20,  21,  22,  23,  24,  25,\n",
       "        26,  27,  28,  29,  30,  31,  32,  33,  34,  35,  36,  37,  38,\n",
       "        39,  40,  41,  42,  43,  44,  45,  46,  47,  48,  49,  50,  51,\n",
       "        52,  53,  54,  55,  56,  57,  58,  59,  60,  61,  62,  63,  64,\n",
       "        65,  66,  67,  68,  69,  70,  71,  72,  73,  74,  75,  7...\n",
       "       169, 170, 171, 172, 173, 174, 175, 176, 177, 178, 179, 180, 181,\n",
       "       182, 183, 184, 185, 186, 187, 188, 189, 190, 191, 192, 193, 194,\n",
       "       195, 196, 197, 198, 199, 200, 201, 202, 203, 204, 205, 206, 207,\n",
       "       208, 209, 210, 211, 212, 213, 214, 215, 216, 217, 218, 219, 220,\n",
       "       221, 222, 223, 224, 225, 226, 227, 228, 229, 230, 231, 232, 233,\n",
       "       234, 235, 236, 237, 238, 239, 240, 241, 242, 243, 244, 245, 246,\n",
       "       247, 248, 249])},\n",
       "                   random_state=0, scoring='neg_mean_absolute_error',\n",
       "                   verbose=2)"
      ]
     },
     "execution_count": 78,
     "metadata": {},
     "output_type": "execute_result"
    }
   ],
   "source": [
    "tree = DecisionTreeRegressor(random_state=0)\n",
    "params = {'max_depth': np.arange(0, 250, 1)}\n",
    "RSCV_tree = RandomizedSearchCV(tree, params, n_iter=30, n_jobs=3, scoring='neg_mean_absolute_error',\n",
    "                               cv=4, verbose=2, random_state=0)\n",
    "RSCV_tree.fit(X_train, y_train)"
   ]
  },
  {
   "cell_type": "code",
   "execution_count": 79,
   "metadata": {},
   "outputs": [
    {
     "name": "stdout",
     "output_type": "stream",
     "text": [
      "Best MAE: 0.09731619896377158\n",
      "Best Parameters: {'max_depth': 122}\n"
     ]
    }
   ],
   "source": [
    "print(f'Best MAE: {-1 * RSCV_tree.best_score_}')\n",
    "print(f'Best Parameters: {RSCV_tree.best_params_}')"
   ]
  },
  {
   "cell_type": "code",
   "execution_count": 80,
   "metadata": {
    "scrolled": true
   },
   "outputs": [
    {
     "data": {
      "text/html": [
       "<div>\n",
       "<style scoped>\n",
       "    .dataframe tbody tr th:only-of-type {\n",
       "        vertical-align: middle;\n",
       "    }\n",
       "\n",
       "    .dataframe tbody tr th {\n",
       "        vertical-align: top;\n",
       "    }\n",
       "\n",
       "    .dataframe thead th {\n",
       "        text-align: right;\n",
       "    }\n",
       "</style>\n",
       "<table border=\"1\" class=\"dataframe\">\n",
       "  <thead>\n",
       "    <tr style=\"text-align: right;\">\n",
       "      <th></th>\n",
       "      <th>param_max_depth</th>\n",
       "      <th>mean_test_score</th>\n",
       "      <th>mean_fit_time</th>\n",
       "    </tr>\n",
       "    <tr>\n",
       "      <th>rank_test_score</th>\n",
       "      <th></th>\n",
       "      <th></th>\n",
       "      <th></th>\n",
       "    </tr>\n",
       "  </thead>\n",
       "  <tbody>\n",
       "    <tr>\n",
       "      <th>1</th>\n",
       "      <td>122</td>\n",
       "      <td>-0.097316</td>\n",
       "      <td>29.073596</td>\n",
       "    </tr>\n",
       "    <tr>\n",
       "      <th>2</th>\n",
       "      <td>225</td>\n",
       "      <td>-0.097326</td>\n",
       "      <td>28.838707</td>\n",
       "    </tr>\n",
       "    <tr>\n",
       "      <th>2</th>\n",
       "      <td>139</td>\n",
       "      <td>-0.097326</td>\n",
       "      <td>27.376525</td>\n",
       "    </tr>\n",
       "    <tr>\n",
       "      <th>2</th>\n",
       "      <td>203</td>\n",
       "      <td>-0.097326</td>\n",
       "      <td>27.952346</td>\n",
       "    </tr>\n",
       "    <tr>\n",
       "      <th>2</th>\n",
       "      <td>156</td>\n",
       "      <td>-0.097326</td>\n",
       "      <td>27.826982</td>\n",
       "    </tr>\n",
       "    <tr>\n",
       "      <th>2</th>\n",
       "      <td>194</td>\n",
       "      <td>-0.097326</td>\n",
       "      <td>27.232821</td>\n",
       "    </tr>\n",
       "    <tr>\n",
       "      <th>2</th>\n",
       "      <td>186</td>\n",
       "      <td>-0.097326</td>\n",
       "      <td>27.563881</td>\n",
       "    </tr>\n",
       "    <tr>\n",
       "      <th>2</th>\n",
       "      <td>231</td>\n",
       "      <td>-0.097326</td>\n",
       "      <td>28.482751</td>\n",
       "    </tr>\n",
       "    <tr>\n",
       "      <th>2</th>\n",
       "      <td>218</td>\n",
       "      <td>-0.097326</td>\n",
       "      <td>28.169281</td>\n",
       "    </tr>\n",
       "    <tr>\n",
       "      <th>2</th>\n",
       "      <td>155</td>\n",
       "      <td>-0.097326</td>\n",
       "      <td>28.020758</td>\n",
       "    </tr>\n",
       "    <tr>\n",
       "      <th>2</th>\n",
       "      <td>237</td>\n",
       "      <td>-0.097326</td>\n",
       "      <td>27.983025</td>\n",
       "    </tr>\n",
       "    <tr>\n",
       "      <th>2</th>\n",
       "      <td>198</td>\n",
       "      <td>-0.097326</td>\n",
       "      <td>27.528245</td>\n",
       "    </tr>\n",
       "    <tr>\n",
       "      <th>2</th>\n",
       "      <td>161</td>\n",
       "      <td>-0.097326</td>\n",
       "      <td>27.299790</td>\n",
       "    </tr>\n",
       "    <tr>\n",
       "      <th>2</th>\n",
       "      <td>154</td>\n",
       "      <td>-0.097326</td>\n",
       "      <td>27.763614</td>\n",
       "    </tr>\n",
       "    <tr>\n",
       "      <th>2</th>\n",
       "      <td>157</td>\n",
       "      <td>-0.097326</td>\n",
       "      <td>27.304860</td>\n",
       "    </tr>\n",
       "    <tr>\n",
       "      <th>2</th>\n",
       "      <td>150</td>\n",
       "      <td>-0.097326</td>\n",
       "      <td>27.684935</td>\n",
       "    </tr>\n",
       "    <tr>\n",
       "      <th>2</th>\n",
       "      <td>152</td>\n",
       "      <td>-0.097326</td>\n",
       "      <td>27.686811</td>\n",
       "    </tr>\n",
       "    <tr>\n",
       "      <th>18</th>\n",
       "      <td>108</td>\n",
       "      <td>-0.097397</td>\n",
       "      <td>27.911689</td>\n",
       "    </tr>\n",
       "    <tr>\n",
       "      <th>19</th>\n",
       "      <td>111</td>\n",
       "      <td>-0.097426</td>\n",
       "      <td>27.390392</td>\n",
       "    </tr>\n",
       "    <tr>\n",
       "      <th>20</th>\n",
       "      <td>96</td>\n",
       "      <td>-0.097610</td>\n",
       "      <td>27.970060</td>\n",
       "    </tr>\n",
       "    <tr>\n",
       "      <th>21</th>\n",
       "      <td>116</td>\n",
       "      <td>-0.097716</td>\n",
       "      <td>27.780111</td>\n",
       "    </tr>\n",
       "    <tr>\n",
       "      <th>22</th>\n",
       "      <td>92</td>\n",
       "      <td>-0.098087</td>\n",
       "      <td>28.238073</td>\n",
       "    </tr>\n",
       "    <tr>\n",
       "      <th>23</th>\n",
       "      <td>90</td>\n",
       "      <td>-0.098795</td>\n",
       "      <td>28.346903</td>\n",
       "    </tr>\n",
       "    <tr>\n",
       "      <th>24</th>\n",
       "      <td>83</td>\n",
       "      <td>-0.102894</td>\n",
       "      <td>27.595634</td>\n",
       "    </tr>\n",
       "    <tr>\n",
       "      <th>25</th>\n",
       "      <td>73</td>\n",
       "      <td>-0.106551</td>\n",
       "      <td>26.879378</td>\n",
       "    </tr>\n",
       "    <tr>\n",
       "      <th>26</th>\n",
       "      <td>63</td>\n",
       "      <td>-0.110136</td>\n",
       "      <td>26.117082</td>\n",
       "    </tr>\n",
       "    <tr>\n",
       "      <th>27</th>\n",
       "      <td>55</td>\n",
       "      <td>-0.117652</td>\n",
       "      <td>26.033079</td>\n",
       "    </tr>\n",
       "    <tr>\n",
       "      <th>28</th>\n",
       "      <td>45</td>\n",
       "      <td>-0.135361</td>\n",
       "      <td>23.203249</td>\n",
       "    </tr>\n",
       "    <tr>\n",
       "      <th>29</th>\n",
       "      <td>37</td>\n",
       "      <td>-0.158494</td>\n",
       "      <td>19.332849</td>\n",
       "    </tr>\n",
       "    <tr>\n",
       "      <th>30</th>\n",
       "      <td>8</td>\n",
       "      <td>-0.453844</td>\n",
       "      <td>5.886704</td>\n",
       "    </tr>\n",
       "  </tbody>\n",
       "</table>\n",
       "</div>"
      ],
      "text/plain": [
       "                param_max_depth  mean_test_score  mean_fit_time\n",
       "rank_test_score                                                \n",
       "1                           122        -0.097316      29.073596\n",
       "2                           225        -0.097326      28.838707\n",
       "2                           139        -0.097326      27.376525\n",
       "2                           203        -0.097326      27.952346\n",
       "2                           156        -0.097326      27.826982\n",
       "2                           194        -0.097326      27.232821\n",
       "2                           186        -0.097326      27.563881\n",
       "2                           231        -0.097326      28.482751\n",
       "2                           218        -0.097326      28.169281\n",
       "2                           155        -0.097326      28.020758\n",
       "2                           237        -0.097326      27.983025\n",
       "2                           198        -0.097326      27.528245\n",
       "2                           161        -0.097326      27.299790\n",
       "2                           154        -0.097326      27.763614\n",
       "2                           157        -0.097326      27.304860\n",
       "2                           150        -0.097326      27.684935\n",
       "2                           152        -0.097326      27.686811\n",
       "18                          108        -0.097397      27.911689\n",
       "19                          111        -0.097426      27.390392\n",
       "20                           96        -0.097610      27.970060\n",
       "21                          116        -0.097716      27.780111\n",
       "22                           92        -0.098087      28.238073\n",
       "23                           90        -0.098795      28.346903\n",
       "24                           83        -0.102894      27.595634\n",
       "25                           73        -0.106551      26.879378\n",
       "26                           63        -0.110136      26.117082\n",
       "27                           55        -0.117652      26.033079\n",
       "28                           45        -0.135361      23.203249\n",
       "29                           37        -0.158494      19.332849\n",
       "30                            8        -0.453844       5.886704"
      ]
     },
     "execution_count": 80,
     "metadata": {},
     "output_type": "execute_result"
    }
   ],
   "source": [
    "pd.DataFrame(RSCV_tree.cv_results_)[['rank_test_score','param_max_depth','mean_test_score','mean_fit_time']].sort_values('rank_test_score').set_index('rank_test_score')"
   ]
  },
  {
   "cell_type": "markdown",
   "metadata": {},
   "source": [
    "<a id='The_Final_Model'></a>\n",
    "## The Final Model: Decision-Tree Regressor"
   ]
  },
  {
   "cell_type": "markdown",
   "metadata": {},
   "source": [
    "Based on a balance of model-performance (as measured by MAE) with model train-time/resource-demands I've chosen decision tree regression.\n",
    "\n",
    "In cross-validated training a tree with a max-depth of 122 performed best with a mean MAE over the 4 folds of 0.0973.\n",
    "\n",
    "For reference, the best random-forest model achieved an MAE of 0.0825."
   ]
  },
  {
   "cell_type": "markdown",
   "metadata": {},
   "source": [
    "### Randomized Search for Optimal Hyperparameters"
   ]
  },
  {
   "cell_type": "code",
   "execution_count": 75,
   "metadata": {
    "scrolled": true
   },
   "outputs": [
    {
     "name": "stdout",
     "output_type": "stream",
     "text": [
      "Fitting 5 folds for each of 100 candidates, totalling 500 fits\n"
     ]
    },
    {
     "name": "stderr",
     "output_type": "stream",
     "text": [
      "[Parallel(n_jobs=3)]: Using backend LokyBackend with 3 concurrent workers.\n",
      "[Parallel(n_jobs=3)]: Done  35 tasks      | elapsed:  3.0min\n",
      "[Parallel(n_jobs=3)]: Done 156 tasks      | elapsed: 16.3min\n",
      "[Parallel(n_jobs=3)]: Done 359 tasks      | elapsed: 35.5min\n",
      "[Parallel(n_jobs=3)]: Done 500 out of 500 | elapsed: 46.7min finished\n"
     ]
    },
    {
     "data": {
      "text/plain": [
       "RandomizedSearchCV(estimator=DecisionTreeRegressor(random_state=0), n_iter=100,\n",
       "                   n_jobs=3,\n",
       "                   param_distributions={'criterion': ['mse', 'friedman_mse'],\n",
       "                                        'max_depth': array([  1,   2,   3,   4,   5,   6,   7,   8,   9,  10,  11,  12,  13,\n",
       "        14,  15,  16,  17,  18,  19,  20,  21,  22,  23,  24,  25,  26,\n",
       "        27,  28,  29,  30,  31,  32,  33,  34,  35,  36,  37,  38,  39,\n",
       "        40,  41,  42,  43,  44,  45,  46,  47,  48,  49,  50,  51,  52,\n",
       "        53,  54,  55,  56,  57,  58,  59,  60,  61,  62,  63,  64,  65,\n",
       "        66...\n",
       "        79,  80,  81,  82,  83,  84,  85,  86,  87,  88,  89,  90,  91,\n",
       "        92,  93,  94,  95,  96,  97,  98,  99, 100, 101, 102, 103, 104,\n",
       "       105, 106, 107, 108, 109, 110, 111, 112, 113, 114, 115, 116, 117,\n",
       "       118, 119, 120, 121, 122, 123, 124, 125, 126, 127, 128, 129, 130,\n",
       "       131, 132, 133, 134, 135, 136, 137, 138, 139, 140, 141, 142, 143,\n",
       "       144, 145, 146, 147, 148, 149]),\n",
       "                                        'min_impurity_decrease': array([0. , 0.1, 0.2, 0.3, 0.4])},\n",
       "                   random_state=0, scoring='neg_mean_absolute_error',\n",
       "                   verbose=2)"
      ]
     },
     "execution_count": 75,
     "metadata": {},
     "output_type": "execute_result"
    }
   ],
   "source": [
    "# Search for the best final model hyperparameters, given the searching paramters, and print the best one's MAE\n",
    "# and hyperparameters\n",
    "params = {'criterion': ['mse', 'friedman_mse'],\n",
    "          'max_depth': np.arange(1, 150, 1),\n",
    "          'min_impurity_decrease': np.arange(0, 0.5, 0.1)}\n",
    "\n",
    "RSCV_tree = RandomizedSearchCV(estimator=DecisionTreeRegressor(random_state=0), param_distributions=params,\n",
    "                               n_iter=100, scoring='neg_mean_absolute_error', n_jobs=3, verbose=2, random_state=0)\n",
    "\n",
    "RSCV_tree.fit(X_train, y_train)"
   ]
  },
  {
   "cell_type": "code",
   "execution_count": 76,
   "metadata": {},
   "outputs": [
    {
     "name": "stdout",
     "output_type": "stream",
     "text": [
      "Best MAE: 0.09357162344108433\n",
      "Best Parameters: {'min_impurity_decrease': 0.1, 'max_depth': 119, 'criterion': 'friedman_mse'}\n"
     ]
    }
   ],
   "source": [
    "print(f'Best MAE: {-1 * RSCV_tree.best_score_}')\n",
    "print(f'Best Parameters: {RSCV_tree.best_params_}')"
   ]
  },
  {
   "cell_type": "markdown",
   "metadata": {},
   "source": [
    "### Training and Predictions"
   ]
  },
  {
   "cell_type": "code",
   "execution_count": 78,
   "metadata": {},
   "outputs": [
    {
     "data": {
      "text/plain": [
       "DecisionTreeRegressor(criterion='friedman_mse', max_depth=119,\n",
       "                      min_impurity_decrease=0.1, random_state=0)"
      ]
     },
     "execution_count": 78,
     "metadata": {},
     "output_type": "execute_result"
    }
   ],
   "source": [
    "# With the best hyperparameters as hyperparameter inputs\n",
    "tree = DecisionTreeRegressor(random_state=0)\n",
    "tree.set_params(**RSCV_tree.best_params_)"
   ]
  },
  {
   "cell_type": "code",
   "execution_count": 79,
   "metadata": {},
   "outputs": [
    {
     "data": {
      "text/plain": [
       "DecisionTreeRegressor(criterion='friedman_mse', max_depth=119,\n",
       "                      min_impurity_decrease=0.1, random_state=0)"
      ]
     },
     "execution_count": 79,
     "metadata": {},
     "output_type": "execute_result"
    }
   ],
   "source": [
    "# Fit the tree to the training data\n",
    "tree.fit(X_train, y_train)"
   ]
  },
  {
   "cell_type": "code",
   "execution_count": 80,
   "metadata": {},
   "outputs": [],
   "source": [
    "# Make predictions and save the MAE\n",
    "y_pred = tree.predict(X_test)\n",
    "MAE = mean_absolute_error(y_test, y_pred)"
   ]
  },
  {
   "cell_type": "markdown",
   "metadata": {},
   "source": [
    "### Interpretation of the Model"
   ]
  },
  {
   "cell_type": "code",
   "execution_count": 139,
   "metadata": {},
   "outputs": [],
   "source": [
    "# Take feature-importances from the final tree and place them in a dictionary with their name as a key\n",
    "feature_importances = tree.feature_importances_\n",
    "feature_importances = {feature:importance for feature, importance in zip(X_train.columns, feature_importances.tolist())}\n",
    "\n",
    "# Sort the dictionary by feature importance, descending\n",
    "sorted_feature_importances = {key:value for key, value in sorted(feature_importances.items(), key=lambda x: x[1], reverse=True)}\n",
    "\n",
    "# Create a DataFrame of the features\n",
    "feature_importances_df = pd.DataFrame(sorted_feature_importances.items(), columns=('Feature','Importance'))"
   ]
  },
  {
   "cell_type": "code",
   "execution_count": 148,
   "metadata": {
    "scrolled": false
   },
   "outputs": [
    {
     "data": {
      "image/png": "[encoded data removed]",
      "text/plain": [
       "<Figure size 1080x576 with 1 Axes>"
      ]
     },
     "metadata": {},
     "output_type": "display_data"
    }
   ],
   "source": [
    "# Visualize feature importances\n",
    "plt.figure(figsize=[15,8])\n",
    "sns.barplot(data=feature_importances_df[:10], x='Feature', y='Importance')\n",
    "plt.title('Top 10 Features by Importances (Normalized)')\n",
    "\n",
    "save_and_show_plot('Top 10 Features by Importances (Normalized).png');"
   ]
  },
  {
   "cell_type": "markdown",
   "metadata": {},
   "source": [
    "Apparently this is what's useful for the decision tree to reduce error!\n",
    "\n",
    "With 143 features and a max-depth of 119 branches, I was expecting interpretation to be confusing, *and it is.* A \"shorter\" tree would have provided more interpretability at the cost of accuracy."
   ]
  },
  {
   "cell_type": "markdown",
   "metadata": {},
   "source": [
    "<b>Tree's splitting criteria strongly favor high cardinality features, so let's evaluate the predictive power of the features in respect to a tree via permutation_importance<b>"
   ]
  },
  {
   "cell_type": "code",
   "execution_count": 149,
   "metadata": {},
   "outputs": [],
   "source": [
    "from sklearn.inspection import permutation_importance"
   ]
  },
  {
   "cell_type": "code",
   "execution_count": 150,
   "metadata": {
    "scrolled": true
   },
   "outputs": [
    {
     "name": "stderr",
     "output_type": "stream",
     "text": [
      "C:\\Users\\Noah\\anaconda3\\lib\\site-packages\\sklearn\\utils\\validation.py:67: FutureWarning: Pass scoring=neg_mean_absolute_error as keyword args. From version 0.25 passing these as positional arguments will result in an error\n",
      "  warnings.warn(\"Pass {} as keyword args. From version 0.25 \"\n"
     ]
    }
   ],
   "source": [
    "# Find permuted mean feature importances\n",
    "perm_importance = permutation_importance(tree, X_train, y_train, scoring='neg_mean_absolute_error', n_jobs=3, random_state=0)"
   ]
  },
  {
   "cell_type": "code",
   "execution_count": 158,
   "metadata": {},
   "outputs": [],
   "source": [
    "# Take feature-importances from the permutation feature evaluator and place them in a dictionary with their name as a key\n",
    "perm_feature_importances = {feature:importance for feature, importance in zip(X_train.columns, perm_importance.importances_mean.tolist())}\n",
    "\n",
    "# Sort the dictionary by mean feature importance, descending\n",
    "sorted_perm_feature_importances = {key:value for key, value in sorted(perm_feature_importances.items(), key=lambda x: x[1], reverse=True)}\n",
    "\n",
    "# Create a DataFrame of the features\n",
    "perm_feature_importances_df = pd.DataFrame(sorted_perm_feature_importances.items(), columns=('Feature','Mean Importance'))"
   ]
  },
  {
   "cell_type": "code",
   "execution_count": 159,
   "metadata": {},
   "outputs": [
    {
     "data": {
      "image/png": "[encoded data removed]",
      "text/plain": [
       "<Figure size 1080x576 with 1 Axes>"
      ]
     },
     "metadata": {},
     "output_type": "display_data"
    }
   ],
   "source": [
    "# Visualize permutated mean feature importances\n",
    "plt.figure(figsize=[15,8])\n",
    "sns.barplot(data=perm_feature_importances_df[:10], x='Feature', y='Mean Importance')\n",
    "plt.title('Top 10 Features by Permutated Mean Importances (Normalized)')\n",
    "\n",
    "save_and_show_plot('Top 10 Features by Permutated Mean Importances (Normalized).png');"
   ]
  },
  {
   "cell_type": "markdown",
   "metadata": {},
   "source": [
    "<a id='Results'></a>\n",
    "# Results"
   ]
  },
  {
   "cell_type": "markdown",
   "metadata": {},
   "source": [
    "<a id='MAE'></a>\n",
    "## Mean Absolute Error of Predictions"
   ]
  },
  {
   "cell_type": "code",
   "execution_count": 88,
   "metadata": {},
   "outputs": [
    {
     "name": "stdout",
     "output_type": "stream",
     "text": [
      "The final model's MAE of predictions on the test set is: 0.0863\n"
     ]
    }
   ],
   "source": [
    "print('The final model\\'s MAE of predictions on the test set is: {}'.format(round(MAE,4)))"
   ]
  },
  {
   "cell_type": "markdown",
   "metadata": {},
   "source": [
    "<a id='Results_Visualized'></a>\n",
    "## Results Visualized"
   ]
  },
  {
   "cell_type": "code",
   "execution_count": 92,
   "metadata": {
    "scrolled": false
   },
   "outputs": [
    {
     "data": {
      "image/png": "[encoded data removed]",
      "text/plain": [
       "<Figure size 1080x576 with 1 Axes>"
      ]
     },
     "metadata": {},
     "output_type": "display_data"
    }
   ],
   "source": [
    "# NOTE: Since the testing data spans many stores, departments, years, and is randomized this is the my best approximation\n",
    "# of how to visualize truth vs. predictions\n",
    "\n",
    "true_vs_pred_week_mean = X_test[['Week']].join(y_test).rename(columns={'Weekly_Sales':'true'})\n",
    "true_vs_pred_week_mean['prediction'] = y_pred\n",
    "\n",
    "plt.figure(figsize=[15,8])\n",
    "ax = sns.lineplot(data=true_vs_pred_week_mean.groupby('Week').mean())\n",
    "ax.set(ylabel='Standardized-Values', title='True vs. Predicted Values Averaged by Week')\n",
    "\n",
    "save_and_show_plot('Final_Results_Visualized.png')"
   ]
  }
 ],
 "metadata": {
  "kernelspec": {
   "display_name": "Python 3",
   "language": "python",
   "name": "python3"
  },
  "language_info": {
   "codemirror_mode": {
    "name": "ipython",
    "version": 3
   },
   "file_extension": ".py",
   "mimetype": "text/x-python",
   "name": "python",
   "nbconvert_exporter": "python",
   "pygments_lexer": "ipython3",
   "version": "3.8.5"
  },
  "toc": {
   "base_numbering": 1,
   "nav_menu": {},
   "number_sections": true,
   "sideBar": true,
   "skip_h1_title": false,
   "title_cell": "Table of Contents",
   "title_sidebar": "Contents",
   "toc_cell": true,
   "toc_position": {
    "height": "calc(100% - 180px)",
    "left": "10px",
    "top": "150px",
    "width": "364px"
   },
   "toc_section_display": true,
   "toc_window_display": false
  }
 },
 "nbformat": 4,
 "nbformat_minor": 4
}
